{
 "cells": [
  {
   "attachments": {},
   "cell_type": "markdown",
   "id": "bce2bb89",
   "metadata": {},
   "source": [
    "# ADS 509 Assignment 5.1: Topic Modeling\n",
    "\n",
    "This notebook holds Assignment 5.1 for Module 5 in ADS 509, Applied Text Mining. Work through this notebook, writing code and answering questions where required. \n",
    "\n",
    "In this assignment you will work with a categorical corpus that accompanies `nltk`. You will build the three types of topic models described in Chapter 8 of _Blueprints for Text Analytics using Python_: NMF, LSA, and LDA. You will compare these models to the true categories. \n"
   ]
  },
  {
   "attachments": {},
   "cell_type": "markdown",
   "id": "d87e2c06",
   "metadata": {},
   "source": [
    "## General Assignment Instructions\n",
    "\n",
    "These instructions are included in every assignment, to remind you of the coding standards for the class. Feel free to delete this cell after reading it. \n",
    "\n",
    "One sign of mature code is conforming to a style guide. We recommend the [Google Python Style Guide](https://google.github.io/styleguide/pyguide.html). If you use a different style guide, please include a cell with a link. \n",
    "\n",
    "Your code should be relatively easy-to-read, sensibly commented, and clean. Writing code is a messy process, so please be sure to edit your final submission. Remove any cells that are not needed or parts of cells that contain unnecessary code. Remove inessential `import` statements and make sure that all such statements are moved into the designated cell. \n",
    "\n",
    "Make use of non-code cells for written commentary. These cells should be grammatical and clearly written. In some of these cells you will have questions to answer. The questions will be marked by a \"Q:\" and will have a corresponding \"A:\" spot for you. *Make sure to answer every question marked with a `Q:` for full credit.* \n"
   ]
  },
  {
   "cell_type": "code",
   "execution_count": 9,
   "id": "3a36b236",
   "metadata": {},
   "outputs": [],
   "source": [
    "#import spacy\n",
    "#nlp = spacy.load(\"/Users/itzelcruz/opt/miniconda3/lib/python3.9/site-packages/spacy\")"
   ]
  },
  {
   "cell_type": "code",
   "execution_count": 1,
   "id": "a85bce08",
   "metadata": {},
   "outputs": [
    {
     "name": "stdout",
     "output_type": "stream",
     "text": [
      "Requirement already satisfied: pyLDAvis==3.4.1 in /Users/itzelcruz/.local/lib/python3.9/site-packages (3.4.1)\n",
      "Requirement already satisfied: numpy>=1.24.2 in /Users/itzelcruz/.local/lib/python3.9/site-packages (from pyLDAvis==3.4.1) (1.25.2)\n",
      "Requirement already satisfied: scipy in /Users/itzelcruz/opt/miniconda3/lib/python3.9/site-packages (from pyLDAvis==3.4.1) (1.9.3)\n",
      "Requirement already satisfied: pandas>=2.0.0 in /Users/itzelcruz/.local/lib/python3.9/site-packages (from pyLDAvis==3.4.1) (2.2.3)\n",
      "Requirement already satisfied: joblib>=1.2.0 in /Users/itzelcruz/opt/miniconda3/lib/python3.9/site-packages (from pyLDAvis==3.4.1) (1.2.0)\n",
      "Requirement already satisfied: jinja2 in /Users/itzelcruz/opt/miniconda3/lib/python3.9/site-packages (from pyLDAvis==3.4.1) (3.1.2)\n",
      "Requirement already satisfied: numexpr in /Users/itzelcruz/.local/lib/python3.9/site-packages (from pyLDAvis==3.4.1) (2.10.1)\n",
      "Requirement already satisfied: funcy in /Users/itzelcruz/.local/lib/python3.9/site-packages (from pyLDAvis==3.4.1) (2.0)\n",
      "Requirement already satisfied: scikit-learn>=1.0.0 in /Users/itzelcruz/opt/miniconda3/lib/python3.9/site-packages (from pyLDAvis==3.4.1) (1.1.3)\n",
      "Requirement already satisfied: gensim in /Users/itzelcruz/.local/lib/python3.9/site-packages (from pyLDAvis==3.4.1) (4.3.3)\n",
      "Requirement already satisfied: setuptools in /Users/itzelcruz/opt/miniconda3/lib/python3.9/site-packages (from pyLDAvis==3.4.1) (65.6.3)\n",
      "Requirement already satisfied: python-dateutil>=2.8.2 in /Users/itzelcruz/opt/miniconda3/lib/python3.9/site-packages (from pandas>=2.0.0->pyLDAvis==3.4.1) (2.8.2)\n",
      "Requirement already satisfied: pytz>=2020.1 in /Users/itzelcruz/opt/miniconda3/lib/python3.9/site-packages (from pandas>=2.0.0->pyLDAvis==3.4.1) (2022.6)\n",
      "Requirement already satisfied: tzdata>=2022.7 in /Users/itzelcruz/opt/miniconda3/lib/python3.9/site-packages (from pandas>=2.0.0->pyLDAvis==3.4.1) (2022.7)\n",
      "Requirement already satisfied: threadpoolctl>=2.0.0 in /Users/itzelcruz/opt/miniconda3/lib/python3.9/site-packages (from scikit-learn>=1.0.0->pyLDAvis==3.4.1) (3.1.0)\n",
      "Requirement already satisfied: smart-open>=1.8.1 in /Users/itzelcruz/opt/miniconda3/lib/python3.9/site-packages (from gensim->pyLDAvis==3.4.1) (7.0.5)\n",
      "Requirement already satisfied: MarkupSafe>=2.0 in /Users/itzelcruz/opt/miniconda3/lib/python3.9/site-packages (from jinja2->pyLDAvis==3.4.1) (2.1.1)\n",
      "Requirement already satisfied: six>=1.5 in /Users/itzelcruz/opt/miniconda3/lib/python3.9/site-packages (from python-dateutil>=2.8.2->pandas>=2.0.0->pyLDAvis==3.4.1) (1.16.0)\n",
      "Requirement already satisfied: wrapt in /Users/itzelcruz/.local/lib/python3.9/site-packages (from smart-open>=1.8.1->gensim->pyLDAvis==3.4.1) (1.14.1)\n"
     ]
    }
   ],
   "source": [
    "# These libraries may be useful to you\n",
    "\n",
    "!pip install pyLDAvis==3.4.1 --user  #You need to restart the Kernel after installation.\n",
    "# You also need a Python version => 3.9.0\n",
    "from nltk.corpus import brown\n",
    "\n",
    "import numpy as np\n",
    "import pandas as pd\n",
    "from tqdm.auto import tqdm\n",
    "\n",
    "import pyLDAvis\n",
    "import pyLDAvis.lda_model\n",
    "import pyLDAvis.gensim_models\n",
    "\n",
    "import spacy\n",
    "from sklearn.feature_extraction.text import TfidfVectorizer, CountVectorizer\n",
    "from sklearn.decomposition import NMF, TruncatedSVD, LatentDirichletAllocation\n",
    "\n",
    "from spacy.lang.en.stop_words import STOP_WORDS as stopwords\n",
    "import en_core_web_sm\n",
    "\n",
    "from collections import Counter, defaultdict\n",
    "\n",
    "nlp = en_core_web_sm.load()"
   ]
  },
  {
   "cell_type": "code",
   "execution_count": 20,
   "id": "a218df60",
   "metadata": {},
   "outputs": [],
   "source": [
    "# add any additional libaries you need here"
   ]
  },
  {
   "cell_type": "code",
   "execution_count": 2,
   "id": "494de237",
   "metadata": {},
   "outputs": [],
   "source": [
    "# This function comes from the BTAP repo.\n",
    "\n",
    "def display_topics(model, features, no_top_words=5):\n",
    "    for topic, words in enumerate(model.components_):\n",
    "        total = words.sum()\n",
    "        largest = words.argsort()[::-1] # invert sort order\n",
    "        print(\"\\nTopic %02d\" % topic)\n",
    "        for i in range(0, no_top_words):\n",
    "            print(\"  %s (%2.2f)\" % (features[largest[i]], abs(words[largest[i]]*100.0/total)))"
   ]
  },
  {
   "attachments": {},
   "cell_type": "markdown",
   "id": "a30a901c",
   "metadata": {},
   "source": [
    "## Getting to Know the Brown Corpus\n",
    "\n",
    "Let's spend a bit of time getting to know what's in the Brown corpus, our NLTK example of an \"overlapping\" corpus."
   ]
  },
  {
   "cell_type": "code",
   "execution_count": 3,
   "id": "457c59ed",
   "metadata": {},
   "outputs": [
    {
     "name": "stdout",
     "output_type": "stream",
     "text": [
      "For adventure we have 29 articles.\n",
      "For belles_lettres we have 75 articles.\n",
      "For editorial we have 27 articles.\n",
      "For fiction we have 29 articles.\n",
      "For government we have 30 articles.\n",
      "For hobbies we have 36 articles.\n",
      "For humor we have 9 articles.\n",
      "For learned we have 80 articles.\n",
      "For lore we have 48 articles.\n",
      "For mystery we have 24 articles.\n",
      "For news we have 44 articles.\n",
      "For religion we have 17 articles.\n",
      "For reviews we have 17 articles.\n",
      "For romance we have 29 articles.\n",
      "For science_fiction we have 6 articles.\n"
     ]
    }
   ],
   "source": [
    "# categories of articles in Brown corpus\n",
    "for category in brown.categories() :\n",
    "    print(f\"For {category} we have {len(brown.fileids(categories=category))} articles.\")"
   ]
  },
  {
   "attachments": {},
   "cell_type": "markdown",
   "id": "23fb133c",
   "metadata": {},
   "source": [
    "Let's create a dataframe of the articles in of hobbies, editorial, government, news, and romance."
   ]
  },
  {
   "cell_type": "code",
   "execution_count": 4,
   "id": "18f50b9d",
   "metadata": {},
   "outputs": [
    {
     "data": {
      "text/plain": [
       "(166, 3)"
      ]
     },
     "execution_count": 4,
     "metadata": {},
     "output_type": "execute_result"
    }
   ],
   "source": [
    "categories = ['editorial','government','news','romance','hobbies'] \n",
    "\n",
    "category_list = []\n",
    "file_ids = []\n",
    "texts = []\n",
    "\n",
    "for category in categories : \n",
    "    for file_id in brown.fileids(categories=category) :\n",
    "        \n",
    "        # build some lists for a dataframe\n",
    "        category_list.append(category)\n",
    "        file_ids.append(file_id)\n",
    "        \n",
    "        text = brown.words(fileids=file_id)\n",
    "        texts.append(\" \".join(text))\n",
    "\n",
    "        \n",
    "        \n",
    "df = pd.DataFrame()\n",
    "df['category'] = category_list\n",
    "df['id'] = file_ids\n",
    "df['text'] = texts \n",
    "\n",
    "df.shape"
   ]
  },
  {
   "cell_type": "code",
   "execution_count": 5,
   "id": "586f47de",
   "metadata": {},
   "outputs": [],
   "source": [
    "# Let's add some helpful columns on the df\n",
    "df['char_len'] = df['text'].apply(len)\n",
    "df['word_len'] = df['text'].apply(lambda x: len(x.split()))\n"
   ]
  },
  {
   "cell_type": "code",
   "execution_count": 6,
   "id": "2128fd2d",
   "metadata": {},
   "outputs": [
    {
     "data": {
      "text/plain": [
       "<AxesSubplot:xlabel='category'>"
      ]
     },
     "execution_count": 6,
     "metadata": {},
     "output_type": "execute_result"
    },
    {
     "data": {
      "image/png": "[encoded data removed]",
      "text/plain": [
       "<Figure size 1000x600 with 1 Axes>"
      ]
     },
     "metadata": {},
     "output_type": "display_data"
    }
   ],
   "source": [
    "%matplotlib inline\n",
    "df.groupby('category').agg({'word_len': 'mean'}).plot.bar(figsize=(10,6))"
   ]
  },
  {
   "attachments": {},
   "cell_type": "markdown",
   "id": "554ffeb5",
   "metadata": {},
   "source": [
    "Now do our TF-IDF and Count vectorizations."
   ]
  },
  {
   "cell_type": "code",
   "execution_count": 7,
   "id": "21a7d247",
   "metadata": {},
   "outputs": [
    {
     "name": "stderr",
     "output_type": "stream",
     "text": [
      "/Users/itzelcruz/opt/miniconda3/lib/python3.9/site-packages/sklearn/feature_extraction/text.py:404: UserWarning: Your stop_words may be inconsistent with your preprocessing. Tokenizing the stop words generated tokens ['ll', 've'] not in stop_words.\n",
      "  warnings.warn(\n"
     ]
    },
    {
     "data": {
      "text/plain": [
       "(166, 4941)"
      ]
     },
     "execution_count": 7,
     "metadata": {},
     "output_type": "execute_result"
    }
   ],
   "source": [
    "count_text_vectorizer = CountVectorizer(stop_words=list(stopwords), min_df=5, max_df=0.7)\n",
    "count_text_vectors = count_text_vectorizer.fit_transform(df[\"text\"])\n",
    "count_text_vectors.shape"
   ]
  },
  {
   "cell_type": "code",
   "execution_count": 8,
   "id": "875deba9",
   "metadata": {},
   "outputs": [
    {
     "name": "stderr",
     "output_type": "stream",
     "text": [
      "/Users/itzelcruz/opt/miniconda3/lib/python3.9/site-packages/scipy/sparse/_sputils.py:44: DeprecationWarning: np.find_common_type is deprecated.  Please use `np.result_type` or `np.promote_types`.\n",
      "See https://numpy.org/devdocs/release/1.25.0-notes.html and the docs for more information.  (Deprecated NumPy 1.25)\n",
      "  upcast = np.find_common_type(args, [])\n",
      "/Users/itzelcruz/opt/miniconda3/lib/python3.9/site-packages/scipy/sparse/_sputils.py:44: DeprecationWarning: np.find_common_type is deprecated.  Please use `np.result_type` or `np.promote_types`.\n",
      "See https://numpy.org/devdocs/release/1.25.0-notes.html and the docs for more information.  (Deprecated NumPy 1.25)\n",
      "  upcast = np.find_common_type(args, [])\n"
     ]
    },
    {
     "data": {
      "text/plain": [
       "(166, 4941)"
      ]
     },
     "execution_count": 8,
     "metadata": {},
     "output_type": "execute_result"
    }
   ],
   "source": [
    "tfidf_text_vectorizer = TfidfVectorizer(stop_words=list(stopwords), min_df=5, max_df=0.7)\n",
    "tfidf_text_vectors = tfidf_text_vectorizer.fit_transform(df['text'])\n",
    "tfidf_text_vectors.shape"
   ]
  },
  {
   "attachments": {},
   "cell_type": "markdown",
   "id": "a1062b21",
   "metadata": {},
   "source": [
    "Q: What do the two data frames `count_text_vectors` and `tfidf_text_vectors` hold? \n",
    "\n",
    "A: Both have the same shape of (166, 4941). There are 166 documents and 4941 unique vectors. "
   ]
  },
  {
   "attachments": {},
   "cell_type": "markdown",
   "id": "f77c3f94",
   "metadata": {},
   "source": [
    "## Fitting a Non-Negative Matrix Factorization Model\n",
    "\n",
    "In this section the code to fit a five-topic NMF model has already been written. This code comes directly from the [BTAP repo](https://github.com/blueprints-for-text-analytics-python/blueprints-text), which will help you tremendously in the coming sections. "
   ]
  },
  {
   "cell_type": "code",
   "execution_count": 9,
   "id": "d28745a3",
   "metadata": {},
   "outputs": [],
   "source": [
    "nmf_text_model = NMF(n_components=5, random_state=314)\n",
    "W_text_matrix = nmf_text_model.fit_transform(tfidf_text_vectors)\n",
    "H_text_matrix = nmf_text_model.components_"
   ]
  },
  {
   "cell_type": "code",
   "execution_count": 10,
   "id": "a67185e7",
   "metadata": {},
   "outputs": [
    {
     "name": "stdout",
     "output_type": "stream",
     "text": [
      "\n",
      "Topic 00\n",
      "  mr (0.51)\n",
      "  president (0.45)\n",
      "  kennedy (0.43)\n",
      "  united (0.42)\n",
      "  khrushchev (0.40)\n",
      "\n",
      "Topic 01\n",
      "  said (0.88)\n",
      "  didn (0.46)\n",
      "  ll (0.45)\n",
      "  thought (0.42)\n",
      "  man (0.37)\n",
      "\n",
      "Topic 02\n",
      "  state (0.39)\n",
      "  development (0.36)\n",
      "  tax (0.33)\n",
      "  sales (0.30)\n",
      "  program (0.25)\n",
      "\n",
      "Topic 03\n",
      "  mrs (2.61)\n",
      "  mr (0.78)\n",
      "  said (0.63)\n",
      "  miss (0.52)\n",
      "  car (0.51)\n",
      "\n",
      "Topic 04\n",
      "  game (1.02)\n",
      "  league (0.74)\n",
      "  ball (0.72)\n",
      "  baseball (0.71)\n",
      "  team (0.66)\n"
     ]
    }
   ],
   "source": [
    "display_topics(nmf_text_model, tfidf_text_vectorizer.get_feature_names_out())"
   ]
  },
  {
   "attachments": {},
   "cell_type": "markdown",
   "id": "fee51e9b",
   "metadata": {},
   "source": [
    "Now some work for you to do. Compare the NMF categorization to the original categories from the Brown Corpus.\n",
    "\n",
    "We are interested in the extent to which our NMF categorization agrees or disagrees with the original categories in the corpus. For each topic in your NMF model, tally the Brown categories and interpret the results. \n"
   ]
  },
  {
   "cell_type": "code",
   "execution_count": 11,
   "id": "7c8c8eb0",
   "metadata": {},
   "outputs": [],
   "source": [
    "# Your code here\n",
    "\n",
    "topic_to_category = defaultdict(list)\n",
    "for idx, row in enumerate(W_text_matrix) : \n",
    "    topic = np.where(row == np.amax(row))[0]\n",
    "    category = df[\"category\"].iloc[idx]\n",
    "    \n",
    "    topic_to_category[topic[0]].append(category)"
   ]
  },
  {
   "cell_type": "code",
   "execution_count": 12,
   "id": "ee62054a",
   "metadata": {},
   "outputs": [
    {
     "name": "stdout",
     "output_type": "stream",
     "text": [
      "Topic 2\n",
      "   government : 26\n",
      "   hobbies : 26\n",
      "   news : 11\n",
      "   editorial : 2\n",
      "\n",
      "Topic 0\n",
      "   editorial : 20\n",
      "   news : 8\n",
      "   government : 4\n",
      "\n",
      "Topic 1\n",
      "   romance : 29\n",
      "   hobbies : 8\n",
      "   editorial : 4\n",
      "\n",
      "Topic 4\n",
      "   news : 8\n",
      "   editorial : 1\n",
      "   hobbies : 1\n",
      "\n",
      "Topic 3\n",
      "   news : 17\n",
      "   hobbies : 1\n",
      "\n"
     ]
    }
   ],
   "source": [
    "for topic, categories in topic_to_category.items():\n",
    "    category_counts = Counter(categories)\n",
    "    print(\"Topic\", topic)\n",
    "    for category, count in category_counts.most_common():\n",
    "        print(\"  \", category, \":\", count)\n",
    "    print()"
   ]
  },
  {
   "attachments": {},
   "cell_type": "markdown",
   "id": "f8d4e2bc",
   "metadata": {},
   "source": [
    "Q: How does your five-topic NMF model compare to the original Brown categories? \n",
    "\n",
    "A: There are some categories that do not align wth the original Brown categories. "
   ]
  },
  {
   "attachments": {},
   "cell_type": "markdown",
   "id": "82e37cb5",
   "metadata": {},
   "source": [
    "## Fitting an LSA Model\n",
    "\n",
    "In this section, follow the example from the repository and fit an LSA model (called a \"TruncatedSVD\" in `sklearn`). Again fit a five-topic model and compare it to the actual categories in the Brown corpus. Use the TF-IDF vectors for your fit, as above. \n",
    "\n",
    "To be explicit, we are once again interested in the extent to which this LSA factorization agrees or disagrees with the original categories in the corpus. For each topic in your model, tally the Brown categories and interpret the results. \n"
   ]
  },
  {
   "cell_type": "code",
   "execution_count": 13,
   "id": "00b53d3d",
   "metadata": {},
   "outputs": [],
   "source": [
    "# Your code here\n",
    "lsa_text_model = TruncatedSVD(n_components=5, random_state=314)\n",
    "lsa_matrix = lsa_text_model.fit_transform(tfidf_text_vectors)"
   ]
  },
  {
   "attachments": {},
   "cell_type": "markdown",
   "id": "4d94d56f",
   "metadata": {},
   "source": [
    "Q: How does your five-topic LSA model compare to the original Brown categories? \n",
    "\n",
    "A: The five-topic LSA model containes new topics and does not correlate with the original Brown categories.  "
   ]
  },
  {
   "cell_type": "code",
   "execution_count": 15,
   "id": "377a886e",
   "metadata": {},
   "outputs": [
    {
     "name": "stdout",
     "output_type": "stream",
     "text": [
      "\n",
      "Topic 00\n",
      "  said (0.44)\n",
      "  mr (0.25)\n",
      "  mrs (0.22)\n",
      "  state (0.20)\n",
      "  man (0.17)\n",
      "\n",
      "Topic 01\n",
      "  said (3.89)\n",
      "  ll (2.73)\n",
      "  didn (2.63)\n",
      "  thought (2.20)\n",
      "  got (1.97)\n",
      "\n",
      "Topic 02\n",
      "  mrs (3.12)\n",
      "  mr (1.70)\n",
      "  said (1.06)\n",
      "  kennedy (0.82)\n",
      "  khrushchev (0.77)\n",
      "\n",
      "Topic 03\n",
      "  mrs (29.45)\n",
      "  club (6.53)\n",
      "  game (6.12)\n",
      "  jr (5.60)\n",
      "  university (5.20)\n",
      "\n",
      "Topic 04\n",
      "  game (4.54)\n",
      "  league (3.27)\n",
      "  baseball (3.22)\n",
      "  ball (3.10)\n",
      "  team (2.94)\n"
     ]
    }
   ],
   "source": [
    "# call display_topics on your model\n",
    "display_topics(lsa_text_model, tfidf_text_vectorizer.get_feature_names_out())\n"
   ]
  },
  {
   "attachments": {},
   "cell_type": "markdown",
   "id": "ea8b280a",
   "metadata": {},
   "source": [
    "Q: What is your interpretation of the display topics output? \n",
    "\n",
    "A: Each topic (00, 01, 02, 03) each have different terms that they associate with. "
   ]
  },
  {
   "attachments": {},
   "cell_type": "markdown",
   "id": "b4ab4d29",
   "metadata": {},
   "source": [
    "## Fitting an LDA Model\n",
    "\n",
    "Finally, fit a five-topic LDA model using the count vectors (`count_text_vectors` from above). Display the results using `pyLDAvis.display` and describe what you learn from that visualization. "
   ]
  },
  {
   "cell_type": "code",
   "execution_count": 16,
   "id": "802cb8ff",
   "metadata": {},
   "outputs": [
    {
     "name": "stderr",
     "output_type": "stream",
     "text": [
      "/Users/itzelcruz/opt/miniconda3/lib/python3.9/site-packages/scipy/sparse/_sputils.py:44: DeprecationWarning: np.find_common_type is deprecated.  Please use `np.result_type` or `np.promote_types`.\n",
      "See https://numpy.org/devdocs/release/1.25.0-notes.html and the docs for more information.  (Deprecated NumPy 1.25)\n",
      "  upcast = np.find_common_type(args, [])\n"
     ]
    }
   ],
   "source": [
    "# Fit your LDA model here\n",
    "lda_text_model = LatentDirichletAllocation(n_components=5, random_state=314)\n",
    "lda_topics = lda_text_model.fit_transform(count_text_vectors)"
   ]
  },
  {
   "cell_type": "code",
   "execution_count": 17,
   "id": "ab18adf5",
   "metadata": {},
   "outputs": [
    {
     "name": "stdout",
     "output_type": "stream",
     "text": [
      "\n",
      "Topic 00\n",
      "  said (1.05)\n",
      "  mrs (0.82)\n",
      "  little (0.56)\n",
      "  good (0.51)\n",
      "  way (0.50)\n",
      "\n",
      "Topic 01\n",
      "  state (0.67)\n",
      "  development (0.63)\n",
      "  000 (0.57)\n",
      "  program (0.48)\n",
      "  business (0.44)\n",
      "\n",
      "Topic 02\n",
      "  said (1.18)\n",
      "  mr (0.72)\n",
      "  president (0.51)\n",
      "  city (0.43)\n",
      "  state (0.37)\n",
      "\n",
      "Topic 03\n",
      "  feed (0.55)\n",
      "  college (0.54)\n",
      "  general (0.44)\n",
      "  university (0.43)\n",
      "  work (0.37)\n",
      "\n",
      "Topic 04\n",
      "  states (1.14)\n",
      "  state (1.02)\n",
      "  united (0.84)\n",
      "  shall (0.66)\n",
      "  government (0.61)\n"
     ]
    }
   ],
   "source": [
    "# Call `display_topics` on your fitted model here\n",
    "display_topics(lda_text_model, count_text_vectorizer.get_feature_names_out())"
   ]
  },
  {
   "attachments": {},
   "cell_type": "markdown",
   "id": "f2c67876",
   "metadata": {},
   "source": [
    "Q: What inference do you draw from the displayed topics for your LDA model? \n",
    "\n",
    "A: Based on the displayed topics, we can conclude that there are different patterns within the text corpus. \n",
    "\n",
    "Q: Repeat the tallying of Brown categories within your topics. How does your five-topic LDA model compare to the original Brown categories? \n",
    "\n",
    "A: The five-topic LDA model assigns different topics based on themes, the text are grouped differently. "
   ]
  },
  {
   "cell_type": "code",
   "execution_count": 18,
   "id": "6aae75ca",
   "metadata": {},
   "outputs": [],
   "source": [
    "lda_display = pyLDAvis.lda_model.prepare(lda_text_model, count_text_vectors, count_text_vectorizer, sort_topics=False)"
   ]
  },
  {
   "cell_type": "code",
   "execution_count": 19,
   "id": "2a89fc15",
   "metadata": {},
   "outputs": [
    {
     "data": {
      "text/html": [
       "\n",
       "<link rel=\"stylesheet\" type=\"text/css\" href=\"https://cdn.jsdelivr.net/gh/bmabey/pyLDAvis@3.4.0/pyLDAvis/js/ldavis.v1.0.0.css\">\n",
       "\n",
       "\n",
       "<div id=\"ldavis_el29581402397326824167157729905\" style=\"background-color:white;\"></div>\n",
       "<script type=\"text/javascript\">\n",
       "\n",
       "var ldavis_el29581402397326824167157729905_data = {\"mdsDat\": {\"x\": [-0.2435230336220412, 0.13055719395525958, -0.05665667547392665, 0.04142748483975157, 0.12819503030095677], \"y\": [0.006829720679473167, -0.05588474470164509, 0.03852366287446664, -0.11285215230955943, 0.12338351345726475], \"topics\": [1, 2, 3, 4, 5], \"cluster\": [1, 1, 1, 1, 1], \"Freq\": [22.896957296534517, 20.43196854284182, 32.00626407252674, 12.368825612932017, 12.295984475164913]}, \"tinfo\": {\"Term\": [\"states\", \"state\", \"said\", \"mrs\", \"united\", \"shall\", \"development\", \"tax\", \"feed\", \"fiscal\", \"college\", \"government\", \"ll\", \"don\", \"000\", \"university\", \"department\", \"didn\", \"sales\", \"president\", \"rhode\", \"got\", \"equipment\", \"little\", \"mother\", \"class\", \"act\", \"program\", \"system\", \"property\", \"hair\", \"baby\", \"clothes\", \"walls\", \"anne\", \"fig\", \"pale\", \"pink\", \"dry\", \"yellow\", \"entrance\", \"hadn\", \"ham\", \"couldn\", \"frames\", \"fingers\", \"flowers\", \"windows\", \"bride\", \"hell\", \"handsome\", \"coat\", \"cloth\", \"sweet\", \"stared\", \"liked\", \"colored\", \"studio\", \"bed\", \"trees\", \"shelter\", \"mother\", \"looked\", \"clay\", \"wasn\", \"guests\", \"didn\", \"woman\", \"sat\", \"pieces\", \"colors\", \"eyes\", \"drill\", \"mrs\", \"ll\", \"don\", \"thought\", \"room\", \"sun\", \"inch\", \"ve\", \"black\", \"little\", \"knew\", \"went\", \"sure\", \"got\", \"door\", \"look\", \"son\", \"know\", \"said\", \"way\", \"come\", \"came\", \"good\", \"place\", \"away\", \"old\", \"water\", \"right\", \"man\", \"let\", \"life\", \"left\", \"house\", \"day\", \"home\", \"systems\", \"marketing\", \"electronic\", \"boats\", \"missiles\", \"components\", \"aircraft\", \"machine\", \"rhode\", \"assessment\", \"shipments\", \"laboratory\", \"bankers\", \"savings\", \"yield\", \"industrial\", \"forests\", \"compared\", \"machines\", \"procurement\", \"missile\", \"conservation\", \"utility\", \"inventories\", \"polaris\", \"manufacturing\", \"machinery\", \"investment\", \"recreation\", \"banks\", \"property\", \"industry\", \"equipment\", \"sales\", \"radiation\", \"planning\", \"development\", \"medical\", \"providence\", \"billion\", \"system\", \"shares\", \"manufacturers\", \"island\", \"1960\", \"production\", \"1959\", \"products\", \"research\", \"co\", \"range\", \"000\", \"program\", \"business\", \"cost\", \"million\", \"available\", \"state\", \"small\", \"company\", \"national\", \"1961\", \"provide\", \"areas\", \"service\", \"use\", \"military\", \"tax\", \"public\", \"khrushchev\", \"player\", \"rayburn\", \"congo\", \"republican\", \"moscow\", \"southern\", \"baseball\", \"railroad\", \"castro\", \"troops\", \"yards\", \"charter\", \"yankees\", \"premier\", \"alexander\", \"democrats\", \"captain\", \"chinese\", \"coach\", \"laos\", \"gen\", \"cuban\", \"opposition\", \"soviet\", \"katanga\", \"republicans\", \"pope\", \"bombs\", \"robinson\", \"berlin\", \"speaker\", \"communist\", \"democratic\", \"eisenhower\", \"league\", \"mayor\", \"cuba\", \"st\", \"police\", \"yesterday\", \"china\", \"west\", \"monday\", \"race\", \"john\", \"east\", \"kennedy\", \"city\", \"mr\", \"meeting\", \"party\", \"president\", \"said\", \"week\", \"war\", \"political\", \"nations\", \"game\", \"committee\", \"leaders\", \"american\", \"world\", \"york\", \"home\", \"county\", \"man\", \"united\", \"people\", \"house\", \"state\", \"day\", \"old\", \"000\", \"government\", \"men\", \"national\", \"states\", \"school\", \"academic\", \"faculty\", \"trustees\", \"campus\", \"recognition\", \"classical\", \"professors\", \"mathematics\", \"musical\", \"tends\", \"feed\", \"stockholders\", \"fulfill\", \"meat\", \"unions\", \"chemical\", \"motors\", \"prosperity\", \"cattle\", \"prestige\", \"designer\", \"curriculum\", \"clerical\", \"catholic\", \"collective\", \"recorded\", \"appearances\", \"creative\", \"membership\", \"trust\", \"music\", \"chamber\", \"students\", \"student\", \"colleges\", \"teachers\", \"college\", \"engineer\", \"interior\", \"university\", \"daily\", \"pool\", \"schools\", \"education\", \"art\", \"general\", \"anti\", \"members\", \"technical\", \"labor\", \"design\", \"administration\", \"level\", \"work\", \"school\", \"president\", \"problem\", \"board\", \"department\", \"american\", \"good\", \"men\", \"aid\", \"world\", \"high\", \"cousin\", \"rehabilitation\", \"coal\", \"vocational\", \"definition\", \"denied\", \"thereof\", \"bonds\", \"payment\", \"rico\", \"puerto\", \"coordination\", \"filing\", \"adopting\", \"recommendation\", \"calendar\", \"hated\", \"proceedings\", \"commodities\", \"sectors\", \"connections\", \"62\", \"vehicles\", \"allocation\", \"treasury\", \"tractor\", \"adjustments\", \"upstairs\", \"shall\", \"assigned\", \"india\", \"exercise\", \"interference\", \"payments\", \"fiscal\", \"authorized\", \"claim\", \"stations\", \"insurance\", \"claims\", \"class\", \"states\", \"income\", \"return\", \"tax\", \"united\", \"junior\", \"hearing\", \"act\", \"countries\", \"cars\", \"state\", \"agreement\", \"department\", \"government\", \"secretary\", \"officer\", \"section\", \"title\", \"federal\", \"use\", \"service\", \"30\", \"board\", \"services\", \"pay\", \"local\", \"day\"], \"Freq\": [328.0, 485.0, 803.0, 307.0, 298.0, 123.0, 199.0, 172.0, 93.0, 107.0, 120.0, 273.0, 167.0, 178.0, 282.0, 122.0, 153.0, 124.0, 117.0, 297.0, 86.0, 147.0, 105.0, 237.0, 97.0, 97.0, 127.0, 230.0, 142.0, 95.0, 35.266031697679516, 35.25985457287087, 32.342823917150504, 32.33880808918397, 34.234073004331016, 31.327619231629455, 26.498517625454507, 25.524771041025026, 23.57323677816413, 25.427138253320585, 21.619428115149066, 30.99304467895148, 19.675700186736584, 51.43981707238508, 20.589733305570064, 17.726312752092984, 23.305040810822838, 16.751973310918505, 17.677966184967993, 15.781789493525492, 15.780666162782104, 15.765038139000263, 14.80734740664654, 14.806857679256794, 14.806525243898388, 14.805562659021438, 15.72134167497508, 14.793031300690542, 34.14874849426121, 27.74245501030452, 57.204169859252566, 90.05985801714513, 78.93387784968836, 75.71076669182489, 53.907238782962985, 29.982839371430067, 108.73073941993067, 50.25085074519489, 34.93419186644636, 48.297523762670515, 27.141746207592913, 83.9918324965763, 31.32831148326813, 234.3324322419562, 134.73682388828433, 142.22532063651983, 113.48998687104935, 84.70739288661437, 47.8510731735934, 58.28164360651548, 69.8220957267824, 54.44733492420312, 159.93873456068243, 71.32903793545297, 100.47914727932303, 70.80739412891505, 101.54763550743219, 56.564345442016176, 89.14937958191952, 57.94278765631488, 112.80221967394915, 300.1915799527011, 143.08214720581648, 108.66785528409216, 97.93192846288203, 146.7201649075112, 107.63695959300969, 81.83857826579677, 125.33252753578, 93.65427756652973, 105.80662989454602, 122.43392673750742, 76.37882747857942, 81.85609009063364, 81.25833894745286, 87.71132897871979, 85.95109916972196, 84.11085690371307, 37.6203391769688, 41.26043043714821, 26.1085041268941, 38.014900667186396, 22.240995977940425, 21.223514374686562, 54.24848359225268, 50.394700061919124, 82.33814930496466, 17.22632723406702, 13.599502717078908, 16.290888590985357, 10.740632157231785, 17.005387252552143, 15.133342494227298, 72.03843499106002, 14.93822306027201, 24.57436329720799, 28.90817387123342, 17.448867762039562, 36.58474259793833, 7.8547890081002425, 11.322258118599786, 6.91096313190576, 6.906977941612576, 18.167211407818062, 30.179415379306583, 24.918058009903852, 32.623931200863616, 16.267831354180654, 85.04409531611371, 85.23076408361712, 92.04061867537708, 102.21030740338122, 31.419941862258106, 72.29354736159628, 160.58456695669392, 84.12221117794036, 39.2710130425278, 47.15352590830222, 110.99031567699501, 32.52656888050942, 35.56961213374266, 88.51387155669494, 93.20958887097937, 63.84974612826237, 50.27196273949972, 49.69605754659329, 72.6346942154109, 46.82621040883036, 53.98496787689069, 144.628666347273, 123.50896845655336, 113.19861054790827, 73.61038906890657, 79.16133829903114, 74.66204969189857, 169.46520342296267, 100.42960965644957, 76.12853270707228, 92.20105914345216, 67.16061893470139, 66.50125650021175, 62.63129522802712, 86.66947068148016, 95.41631280398141, 65.253893525583, 67.84173831149472, 65.61364145319395, 73.42554374783128, 48.67768498296597, 46.7064278383633, 43.7333749348919, 39.778178768084466, 37.80010747839435, 34.82722841019426, 39.618770244775035, 32.8418090484727, 29.88139792837258, 26.912817657012983, 26.89959101139299, 27.86029549757163, 25.925615833025642, 24.93520264611286, 24.92786072259935, 23.946196773271847, 23.938724665538555, 22.949710429481577, 22.940661109611256, 49.61478194372414, 21.95531968014699, 20.974708622899172, 20.956960655847777, 78.92743956978484, 19.98234147220938, 19.97284168478859, 19.967439518925556, 18.996535964167776, 18.994551077568094, 63.22425972645926, 40.660686563695116, 70.96278176057122, 59.004657601841316, 38.646633209979285, 57.99120476200677, 43.21771150153896, 36.7462556619408, 71.47530467432686, 44.379150265041574, 58.029653582731434, 32.82823725515495, 96.08418538831442, 58.465154170308566, 40.50565929609288, 142.9836847835176, 83.85420121427471, 111.14875577393465, 172.6235320002637, 287.8781423603008, 84.13213702614406, 92.01772270153525, 205.4063487373475, 470.8902208582247, 140.76265143255984, 113.01139950261584, 71.05038233620003, 67.16518889885619, 73.87620209973903, 83.76171945290743, 50.002467140636575, 148.64615016805374, 138.13586962558057, 96.83009236355015, 140.02404620727464, 76.83350051553299, 129.5803754748475, 125.621525361576, 118.36210204722745, 110.56501449328145, 148.8451794619116, 119.60071243642405, 108.7699114008113, 105.30536803757693, 99.52164947706373, 90.46561781119027, 91.57849254494353, 96.15786407278642, 83.844369949508, 27.814826569302785, 48.93684709004376, 18.503509985385982, 14.879468477087567, 15.473941152164244, 9.373352607053869, 8.429864173735861, 7.546272419664459, 18.41492046315914, 7.518959799427081, 84.44155436104484, 18.268486568333213, 6.622128289059266, 19.54171382466204, 18.587130254335815, 23.14611199920265, 38.25197181315952, 4.773288678682475, 17.381566736920444, 10.238816773832236, 14.802706325018892, 7.011676741661544, 4.663272913791558, 25.479595882436087, 10.014582060857435, 7.582398158918695, 4.540015041328782, 12.853649254073654, 19.425628383036646, 29.706978723475046, 46.82501087835091, 21.450400541392444, 52.99436840195928, 54.95528137360934, 16.311008295186326, 25.620730698223564, 83.62014229714035, 24.941675902345843, 28.63345949233644, 67.01241734256271, 33.33126174189987, 43.627376544117006, 49.32037920830871, 46.41828570415928, 34.856196031964856, 67.6689962592206, 32.10381351159179, 51.62302814445601, 31.177936996002916, 33.89549304217465, 35.04082063901762, 44.49327955892601, 35.22883442674146, 56.48861252778265, 47.167119511564735, 55.6877896613361, 39.64150536052226, 42.7156605453866, 38.01482404768303, 43.01510978367249, 42.90256178570262, 38.25715440917901, 34.06878160168574, 37.62879650451412, 34.84607073269714, 24.895381739117905, 17.6087104710559, 22.61715272069343, 12.988354717680895, 12.081651178952153, 17.255761258059287, 11.043916669732498, 28.504391307942186, 36.75187172723353, 17.292619041590687, 17.289973715259723, 6.586201822372024, 15.531276371536077, 5.669749860722181, 16.069958421934746, 20.125736782358153, 5.626627615289109, 6.4164368238585645, 14.343171489794214, 4.761534756745231, 5.5472384829849295, 5.532508833757254, 35.569508144023985, 10.223530392476102, 22.866566967658475, 19.499373411737217, 10.913572827235162, 5.430408333634646, 101.16733937850312, 9.141628146127179, 29.604377811542918, 21.945570724591892, 28.49445862632914, 31.902747941397084, 82.24350507900903, 23.61999226739105, 32.82368814475598, 43.57399739685009, 25.75731022225969, 22.213358197218525, 63.52515544416815, 175.30239292056643, 50.03986268624472, 41.16101243435993, 86.65875331991742, 128.39237926387375, 39.910341717438676, 33.81578682770529, 65.01077528351209, 47.420605346201654, 40.209279592813395, 156.29426259716902, 38.83917469224586, 66.04762002987104, 93.49618556474603, 54.839090750251685, 32.98378789632136, 41.66456800174169, 29.98997040790954, 43.233051375568564, 57.37752089386224, 52.70114914664679, 42.22418118531041, 42.52715360133006, 36.82910800278624, 37.096810629376144, 36.74442128741949, 37.176157676027394], \"Total\": [328.0, 485.0, 803.0, 307.0, 298.0, 123.0, 199.0, 172.0, 93.0, 107.0, 120.0, 273.0, 167.0, 178.0, 282.0, 122.0, 153.0, 124.0, 117.0, 297.0, 86.0, 147.0, 105.0, 237.0, 97.0, 97.0, 127.0, 230.0, 142.0, 95.0, 36.02603912499986, 36.025888838190376, 33.10322172299766, 33.103199451516225, 35.05056255948612, 32.12853787483272, 27.257595896582234, 26.283381057698215, 24.33472332364594, 26.28457560730937, 22.386171312703567, 32.134917729304725, 20.437642353730432, 53.485417657861376, 21.41300921211938, 18.4889776978158, 24.31987835813564, 17.51484102850205, 18.489977886518652, 16.540707205667317, 16.540683839194852, 16.54015211825249, 15.56643207582318, 15.566368553159585, 15.566439385894096, 15.566408536159067, 16.541123102771518, 15.566128130021559, 35.96189057796924, 29.216873363902373, 60.4203024859526, 97.50813665440424, 85.7145214635168, 82.76557482881314, 58.48806964583604, 32.15043643449322, 124.77305109139078, 55.49593407027594, 37.896391840765304, 53.44875378566886, 29.186855354435664, 98.42108266493298, 34.10865925517127, 307.9971583578143, 167.83422712513703, 178.18542278378132, 139.82171036116088, 103.42674442190598, 54.562238116231995, 68.76954856434935, 84.83647160041042, 64.26201397041544, 237.75277971425643, 90.51973633420371, 137.70593095628738, 91.77444009129968, 147.79376856176174, 70.06214294099416, 129.86657516906675, 73.99592681862177, 191.4807208043414, 803.8548070648299, 274.8542726057725, 186.07372334983492, 163.15899799670478, 306.43403590768935, 190.15544412730657, 123.89985251249692, 254.84946828941258, 162.71698521260242, 213.5733828440322, 283.0153604519205, 121.95636925526733, 161.53017716157913, 163.2099130129018, 234.1218436768742, 302.3464743334503, 268.5137641979604, 38.389001812768846, 42.21975114655718, 26.870239511488496, 39.325305112537485, 23.03135590818636, 22.069023878838756, 56.676640666140955, 52.83541185825136, 86.4680044990479, 18.221477632163285, 14.390064081926623, 17.262361508112328, 11.511442662430964, 18.23745719845577, 16.292903446551144, 78.46760127905371, 16.284197226960206, 26.802268957257592, 31.645263380810665, 19.14727441136657, 40.18955772227331, 8.63175043356374, 12.458169098970648, 7.671836647717207, 7.67195030715788, 20.18844642310028, 33.58228715547515, 27.7581657316788, 36.44648449277574, 18.179838892874393, 95.59958109020084, 96.93212392160402, 105.65758026062852, 117.78573708942231, 35.559443489422534, 85.0119273221592, 199.00113683933097, 101.02292341395628, 45.14381488359438, 54.90118963074978, 142.6626279152401, 37.27576952579078, 41.99097586369723, 120.33277045687889, 129.77818451581413, 84.83256378608145, 63.727084038072036, 62.84418723668015, 102.98876739202464, 59.708950181379976, 72.90815716855998, 282.9442741244362, 230.3215726978669, 209.32374748162178, 115.94033775080972, 128.9930469541294, 119.71572579817428, 485.5254739281197, 211.3753924823507, 138.53740854960475, 215.73422314818592, 114.91801537520551, 112.93575546782293, 99.90679935398617, 203.57909034218508, 253.4486972460466, 123.30539886857127, 172.8096418311655, 200.80538207395296, 74.18132611605131, 49.44169052826695, 47.46260119923947, 44.493590360104974, 40.535513996171375, 38.5563898507648, 35.587527828435505, 40.52408901130407, 33.607869995103464, 30.639652232810246, 27.67089434123134, 27.670809878218456, 28.659135933770326, 26.681481371686978, 25.691806203590644, 25.691678325478705, 24.702282074756578, 24.702154272987816, 23.712487033002056, 23.711939322752976, 51.344361291669124, 22.72241627183325, 21.733411082028493, 21.73225191921755, 81.93116365784137, 20.74359979320198, 20.7429113776574, 20.743329613458663, 19.754257834892872, 19.754312772549593, 66.10674015267469, 42.43698376216303, 74.99667222533031, 62.13038324129468, 40.45277924173406, 61.20732427285945, 45.37927277280931, 38.4795855221263, 78.03996648950982, 47.297256235347355, 63.02723087036468, 34.528652937106536, 108.34119862739158, 64.00922906655563, 43.34070314169642, 171.40817645781536, 96.50766365165032, 132.04188079153843, 217.90548917781658, 392.8566393536838, 99.38191347480665, 110.41190710132186, 297.08938591194305, 803.8548070648299, 190.95279899715112, 148.12895827305644, 84.33186741272118, 80.65436811910894, 91.54281280787276, 111.05863796939245, 55.26520309710715, 262.8761488078902, 256.08998245885533, 148.46972078147343, 268.5137641979604, 105.84498183835275, 283.0153604519205, 298.72403397416895, 265.6177234105347, 234.1218436768742, 485.5254739281197, 302.3464743334503, 254.84946828941258, 282.9442741244362, 273.10491963972123, 193.49518722056055, 215.73422314818592, 328.08766300343245, 171.68266645156058, 28.587671191002894, 50.752351040054705, 19.380805810594, 15.693304333758897, 16.633414863075213, 10.165631588135188, 9.245712123820628, 8.322226888959058, 20.34853979312964, 8.32234129436146, 93.52912134200905, 20.35067352827829, 7.40119531706384, 22.20297288052513, 21.263556998272584, 26.86417661430778, 44.46685073473467, 5.559156794388776, 20.429848324794328, 12.080566726948907, 17.616166085442217, 8.344571664079327, 5.563614525856897, 30.740062340111123, 12.097121988775978, 9.309062259927519, 5.575810965371232, 15.790102910241027, 24.23635962717947, 37.14065807513556, 59.642613248128505, 27.081082977874367, 68.97438698866307, 71.68275492289163, 20.467141713564452, 33.34760135025247, 120.99975166695651, 32.580289308120754, 39.89608051957488, 122.31078776847802, 52.49852760150619, 75.23212830270077, 89.45812584148686, 84.5614629460038, 57.49325835273577, 198.0062127777887, 57.79720640203341, 140.2199458281248, 57.24356765830154, 68.34216300022534, 74.72871037779433, 131.40907157119446, 82.98496450235838, 256.97786239275575, 171.68266645156058, 297.08938591194305, 117.36282478725462, 173.02514764709477, 153.03062002567145, 262.8761488078902, 306.43403590768935, 193.49518722056055, 99.64739691842244, 256.08998245885533, 217.96093203160203, 25.719900356958085, 18.379206160058757, 23.88499509622216, 13.795801363596555, 12.877393873437672, 18.395872134442115, 11.965555537317098, 31.301788527830027, 40.525553449448125, 19.30574761946474, 19.305381735641948, 7.3736650185943375, 17.516110794478614, 6.456504867903856, 18.38654313683196, 23.075914689335104, 6.459370956327402, 7.374057915469386, 16.593451639249725, 5.538818995171566, 6.462219526241349, 6.457204216744034, 41.5824484408157, 11.96305297031631, 26.870254060738773, 23.091351462145568, 12.931560935207845, 6.471692815484667, 123.04949327572967, 11.129093826135716, 36.08726596770414, 26.77461259555278, 35.19197255344367, 39.79154818535322, 107.5155592847494, 29.57370429691553, 42.54665994150664, 57.80855935459388, 33.291642037189156, 28.658975142612565, 97.16968285832561, 328.08766300343245, 79.94285226747921, 64.565167999919, 172.8096418311655, 298.72403397416895, 62.79076549191262, 50.551680739664825, 127.86759220361661, 82.87435176840467, 65.84647973719703, 485.5254739281197, 64.87874739797834, 153.03062002567145, 273.10491963972123, 119.84296064796636, 52.2562745305249, 81.49566812100714, 44.58064300425601, 112.6380460193117, 253.4486972460466, 203.57909034218508, 114.38793137157589, 173.02514764709477, 93.38657624530406, 103.89058589990489, 128.42114372832094, 302.3464743334503], \"Category\": [\"Default\", \"Default\", \"Default\", \"Default\", \"Default\", \"Default\", \"Default\", \"Default\", \"Default\", \"Default\", \"Default\", \"Default\", \"Default\", \"Default\", \"Default\", \"Default\", \"Default\", \"Default\", \"Default\", \"Default\", \"Default\", \"Default\", \"Default\", \"Default\", \"Default\", \"Default\", \"Default\", \"Default\", \"Default\", \"Default\", \"Topic1\", \"Topic1\", \"Topic1\", \"Topic1\", \"Topic1\", \"Topic1\", \"Topic1\", \"Topic1\", \"Topic1\", \"Topic1\", \"Topic1\", \"Topic1\", \"Topic1\", \"Topic1\", \"Topic1\", \"Topic1\", \"Topic1\", \"Topic1\", \"Topic1\", \"Topic1\", \"Topic1\", \"Topic1\", \"Topic1\", \"Topic1\", \"Topic1\", \"Topic1\", \"Topic1\", \"Topic1\", \"Topic1\", \"Topic1\", \"Topic1\", \"Topic1\", \"Topic1\", \"Topic1\", \"Topic1\", \"Topic1\", \"Topic1\", \"Topic1\", \"Topic1\", \"Topic1\", \"Topic1\", \"Topic1\", \"Topic1\", \"Topic1\", \"Topic1\", \"Topic1\", \"Topic1\", \"Topic1\", \"Topic1\", \"Topic1\", \"Topic1\", \"Topic1\", \"Topic1\", \"Topic1\", \"Topic1\", \"Topic1\", \"Topic1\", \"Topic1\", \"Topic1\", \"Topic1\", \"Topic1\", \"Topic1\", \"Topic1\", \"Topic1\", \"Topic1\", \"Topic1\", \"Topic1\", \"Topic1\", \"Topic1\", \"Topic1\", \"Topic1\", \"Topic1\", \"Topic1\", \"Topic1\", \"Topic1\", \"Topic1\", \"Topic1\", \"Topic1\", \"Topic2\", \"Topic2\", \"Topic2\", \"Topic2\", \"Topic2\", \"Topic2\", \"Topic2\", \"Topic2\", \"Topic2\", \"Topic2\", \"Topic2\", \"Topic2\", \"Topic2\", \"Topic2\", \"Topic2\", \"Topic2\", \"Topic2\", \"Topic2\", \"Topic2\", \"Topic2\", \"Topic2\", \"Topic2\", \"Topic2\", \"Topic2\", \"Topic2\", \"Topic2\", \"Topic2\", \"Topic2\", \"Topic2\", \"Topic2\", \"Topic2\", \"Topic2\", \"Topic2\", \"Topic2\", \"Topic2\", \"Topic2\", \"Topic2\", \"Topic2\", \"Topic2\", \"Topic2\", \"Topic2\", \"Topic2\", \"Topic2\", \"Topic2\", \"Topic2\", \"Topic2\", \"Topic2\", \"Topic2\", \"Topic2\", \"Topic2\", \"Topic2\", \"Topic2\", \"Topic2\", \"Topic2\", \"Topic2\", \"Topic2\", \"Topic2\", \"Topic2\", \"Topic2\", \"Topic2\", \"Topic2\", \"Topic2\", \"Topic2\", \"Topic2\", \"Topic2\", \"Topic2\", \"Topic2\", \"Topic2\", \"Topic2\", \"Topic3\", \"Topic3\", \"Topic3\", \"Topic3\", \"Topic3\", \"Topic3\", \"Topic3\", \"Topic3\", \"Topic3\", \"Topic3\", \"Topic3\", \"Topic3\", \"Topic3\", \"Topic3\", \"Topic3\", \"Topic3\", \"Topic3\", \"Topic3\", \"Topic3\", \"Topic3\", \"Topic3\", \"Topic3\", \"Topic3\", \"Topic3\", \"Topic3\", \"Topic3\", \"Topic3\", \"Topic3\", \"Topic3\", \"Topic3\", \"Topic3\", \"Topic3\", \"Topic3\", \"Topic3\", \"Topic3\", \"Topic3\", \"Topic3\", \"Topic3\", \"Topic3\", \"Topic3\", \"Topic3\", \"Topic3\", \"Topic3\", \"Topic3\", \"Topic3\", \"Topic3\", \"Topic3\", \"Topic3\", \"Topic3\", \"Topic3\", \"Topic3\", \"Topic3\", \"Topic3\", \"Topic3\", \"Topic3\", \"Topic3\", \"Topic3\", \"Topic3\", \"Topic3\", \"Topic3\", \"Topic3\", \"Topic3\", \"Topic3\", \"Topic3\", \"Topic3\", \"Topic3\", \"Topic3\", \"Topic3\", \"Topic3\", \"Topic3\", \"Topic3\", \"Topic3\", \"Topic3\", \"Topic3\", \"Topic3\", \"Topic3\", \"Topic3\", \"Topic3\", \"Topic3\", \"Topic4\", \"Topic4\", \"Topic4\", \"Topic4\", \"Topic4\", \"Topic4\", \"Topic4\", \"Topic4\", \"Topic4\", \"Topic4\", \"Topic4\", \"Topic4\", \"Topic4\", \"Topic4\", \"Topic4\", \"Topic4\", \"Topic4\", \"Topic4\", \"Topic4\", \"Topic4\", \"Topic4\", \"Topic4\", \"Topic4\", \"Topic4\", \"Topic4\", \"Topic4\", \"Topic4\", \"Topic4\", \"Topic4\", \"Topic4\", \"Topic4\", \"Topic4\", \"Topic4\", \"Topic4\", \"Topic4\", \"Topic4\", \"Topic4\", \"Topic4\", \"Topic4\", \"Topic4\", \"Topic4\", \"Topic4\", \"Topic4\", \"Topic4\", \"Topic4\", \"Topic4\", \"Topic4\", \"Topic4\", \"Topic4\", \"Topic4\", \"Topic4\", \"Topic4\", \"Topic4\", \"Topic4\", \"Topic4\", \"Topic4\", \"Topic4\", \"Topic4\", \"Topic4\", \"Topic4\", \"Topic4\", \"Topic4\", \"Topic4\", \"Topic4\", \"Topic4\", \"Topic5\", \"Topic5\", \"Topic5\", \"Topic5\", \"Topic5\", \"Topic5\", \"Topic5\", \"Topic5\", \"Topic5\", \"Topic5\", \"Topic5\", \"Topic5\", \"Topic5\", \"Topic5\", \"Topic5\", \"Topic5\", \"Topic5\", \"Topic5\", \"Topic5\", \"Topic5\", \"Topic5\", \"Topic5\", \"Topic5\", \"Topic5\", \"Topic5\", \"Topic5\", \"Topic5\", \"Topic5\", \"Topic5\", \"Topic5\", \"Topic5\", \"Topic5\", \"Topic5\", \"Topic5\", \"Topic5\", \"Topic5\", \"Topic5\", \"Topic5\", \"Topic5\", \"Topic5\", \"Topic5\", \"Topic5\", \"Topic5\", \"Topic5\", \"Topic5\", \"Topic5\", \"Topic5\", \"Topic5\", \"Topic5\", \"Topic5\", \"Topic5\", \"Topic5\", \"Topic5\", \"Topic5\", \"Topic5\", \"Topic5\", \"Topic5\", \"Topic5\", \"Topic5\", \"Topic5\", \"Topic5\", \"Topic5\", \"Topic5\", \"Topic5\", \"Topic5\", \"Topic5\", \"Topic5\", \"Topic5\"], \"logprob\": [30.0, 29.0, 28.0, 27.0, 26.0, 25.0, 24.0, 23.0, 22.0, 21.0, 20.0, 19.0, 18.0, 17.0, 16.0, 15.0, 14.0, 13.0, 12.0, 11.0, 10.0, 9.0, 8.0, 7.0, 6.0, 5.0, 4.0, 3.0, 2.0, 1.0, -6.6963, -6.6965, -6.7828, -6.7829, -6.726, -6.8147, -6.9821, -7.0195, -7.0991, -7.0234, -7.1856, -6.8254, -7.2798, -6.3188, -7.2344, -7.3841, -7.1105, -7.4407, -7.3869, -7.5003, -7.5004, -7.5014, -7.5641, -7.5641, -7.5641, -7.5642, -7.5042, -7.565, -6.7285, -6.9362, -6.2126, -5.7587, -5.8906, -5.9323, -6.2719, -6.8586, -5.5703, -6.3422, -6.7057, -6.3818, -6.9581, -5.8285, -6.8147, -4.8025, -5.3559, -5.3018, -5.5275, -5.82, -6.3911, -6.1939, -6.0132, -6.262, -5.1844, -5.9919, -5.6492, -5.9992, -5.6387, -6.2238, -5.7689, -6.1997, -5.5336, -4.5548, -5.2958, -5.5709, -5.6749, -5.2707, -5.5804, -5.8544, -5.4282, -5.7196, -5.5976, -5.4516, -5.9235, -5.8542, -5.8616, -5.7851, -5.8054, -5.8271, -6.5177, -6.4254, -6.883, -6.5073, -7.0434, -7.0902, -6.1517, -6.2254, -5.7345, -7.2989, -7.5353, -7.3547, -7.7713, -7.3118, -7.4284, -5.8681, -7.4414, -6.9436, -6.7812, -7.286, -6.5457, -8.0842, -7.7185, -8.2122, -8.2128, -7.2457, -6.7381, -6.9297, -6.6602, -7.3561, -5.7021, -5.6999, -5.6231, -5.5183, -6.6978, -5.8646, -5.0665, -5.713, -6.4748, -6.2919, -5.4358, -6.6632, -6.5738, -5.6621, -5.6104, -5.9888, -6.2278, -6.2394, -5.8598, -6.2988, -6.1566, -5.1711, -5.329, -5.4161, -5.8465, -5.7738, -5.8323, -5.0126, -5.5358, -5.8129, -5.6213, -5.9382, -5.9481, -6.008, -5.6832, -5.587, -5.967, -5.9281, -5.9615, -6.2979, -6.7089, -6.7502, -6.816, -6.9108, -6.9618, -7.0437, -6.9148, -7.1024, -7.1969, -7.3015, -7.302, -7.2669, -7.3389, -7.3778, -7.3781, -7.4183, -7.4186, -7.4608, -7.4612, -6.6898, -7.5051, -7.5508, -7.5517, -6.2256, -7.5993, -7.5997, -7.6, -7.6499, -7.65, -6.4474, -6.8889, -6.332, -6.5165, -6.9397, -6.5338, -6.8279, -6.9901, -6.3248, -6.8014, -6.5332, -7.1028, -6.0289, -6.5257, -6.8927, -5.6314, -6.165, -5.8833, -5.443, -4.9316, -6.1617, -6.0721, -5.2691, -4.4395, -5.647, -5.8666, -6.3307, -6.387, -6.2917, -6.1661, -6.6821, -5.5926, -5.6659, -6.0212, -5.6523, -6.2525, -5.7298, -5.7608, -5.8204, -5.8885, -5.5912, -5.81, -5.9049, -5.9373, -5.9937, -6.0892, -6.0769, -6.0281, -6.1652, -6.3178, -5.7528, -6.7254, -6.9434, -6.9042, -7.4055, -7.5116, -7.6223, -6.7302, -7.6259, -5.2073, -6.7382, -7.753, -6.6708, -6.7209, -6.5015, -5.9992, -8.0803, -6.788, -7.3172, -6.9486, -7.6958, -8.1037, -6.4055, -7.3393, -7.6175, -8.1304, -7.0897, -6.6768, -6.252, -5.797, -6.5776, -5.6732, -5.6369, -6.8515, -6.4, -5.2171, -6.4268, -6.2888, -5.4385, -6.1369, -5.8677, -5.745, -5.8057, -6.0921, -5.4287, -6.1744, -5.6994, -6.2037, -6.1201, -6.0869, -5.848, -6.0815, -5.6093, -5.7897, -5.6236, -5.9635, -5.8888, -6.0054, -5.8818, -5.8844, -5.999, -6.115, -6.0156, -6.0924, -6.4228, -6.7691, -6.5188, -7.0734, -7.1458, -6.7893, -7.2356, -6.2874, -6.0333, -6.7872, -6.7873, -7.7525, -6.8946, -7.9023, -6.8605, -6.6355, -7.91, -7.7786, -6.9742, -8.0769, -7.9242, -7.9268, -6.066, -7.3128, -6.5078, -6.6671, -7.2475, -7.9454, -5.0207, -7.4246, -6.2495, -6.5489, -6.2878, -6.1748, -5.2278, -6.4754, -6.1463, -5.863, -6.3887, -6.5368, -5.486, -4.471, -5.7246, -5.92, -5.1755, -4.7824, -5.9508, -6.1165, -5.4629, -5.7784, -5.9434, -4.5857, -5.978, -5.4471, -5.0995, -5.6331, -6.1414, -5.9078, -6.2366, -5.8709, -5.5878, -5.6728, -5.8945, -5.8873, -6.0312, -6.0239, -6.0335, -6.0218], \"loglift\": [30.0, 29.0, 28.0, 27.0, 26.0, 25.0, 24.0, 23.0, 22.0, 21.0, 20.0, 19.0, 18.0, 17.0, 16.0, 15.0, 14.0, 13.0, 12.0, 11.0, 10.0, 9.0, 8.0, 7.0, 6.0, 5.0, 4.0, 3.0, 2.0, 1.0, 1.4528, 1.4527, 1.4509, 1.4508, 1.4506, 1.4489, 1.4459, 1.4449, 1.4424, 1.441, 1.4393, 1.438, 1.4362, 1.4352, 1.435, 1.432, 1.4315, 1.4296, 1.4293, 1.4272, 1.4271, 1.4262, 1.4242, 1.4241, 1.4241, 1.4241, 1.4233, 1.4232, 1.4224, 1.4224, 1.4195, 1.3947, 1.3918, 1.3851, 1.3926, 1.4044, 1.3365, 1.3749, 1.3928, 1.3728, 1.4015, 1.3156, 1.3891, 1.2008, 1.2545, 1.2488, 1.2655, 1.2745, 1.3429, 1.3087, 1.2794, 1.3084, 1.0777, 1.2359, 1.159, 1.2148, 1.0989, 1.2602, 1.098, 1.2296, 0.945, 0.4892, 0.8213, 0.9363, 0.9637, 0.7377, 0.9051, 1.0594, 0.7645, 0.9218, 0.7718, 0.6362, 1.0062, 0.7944, 0.7768, 0.4924, 0.2164, 0.3134, 1.5678, 1.5651, 1.5593, 1.5542, 1.5532, 1.549, 1.5443, 1.5408, 1.5391, 1.5319, 1.5316, 1.5301, 1.5188, 1.5181, 1.5142, 1.5026, 1.5018, 1.5013, 1.4976, 1.4952, 1.4941, 1.4937, 1.4925, 1.4836, 1.483, 1.4826, 1.4812, 1.4801, 1.4773, 1.4769, 1.4711, 1.4594, 1.4501, 1.4462, 1.4643, 1.426, 1.3736, 1.405, 1.4487, 1.4359, 1.337, 1.4518, 1.4221, 1.281, 1.2571, 1.3039, 1.3509, 1.3533, 1.2389, 1.345, 1.2876, 0.917, 0.9649, 0.9733, 1.1338, 1.0998, 1.1159, 0.5355, 0.8439, 0.9894, 0.738, 1.0509, 1.0585, 1.1211, 0.7341, 0.6112, 0.9517, 0.6531, 0.4695, 1.129, 1.1237, 1.1232, 1.122, 1.1204, 1.1194, 1.1176, 1.1166, 1.1162, 1.1142, 1.1115, 1.111, 1.111, 1.1105, 1.1093, 1.1091, 1.1082, 1.1078, 1.1065, 1.1062, 1.105, 1.1049, 1.1037, 1.1029, 1.1019, 1.1018, 1.1014, 1.1011, 1.1001, 1.1, 1.0947, 1.0965, 1.084, 1.0876, 1.0936, 1.0853, 1.0904, 1.0931, 1.0514, 1.0756, 1.0566, 1.0887, 1.0192, 1.0486, 1.0716, 0.9579, 0.9987, 0.967, 0.9063, 0.8283, 0.9727, 0.957, 0.7702, 0.6044, 0.8343, 0.8686, 0.9679, 0.9562, 0.9248, 0.8572, 1.0392, 0.5691, 0.5219, 0.7118, 0.4882, 0.8189, 0.358, 0.273, 0.3309, 0.389, -0.0431, 0.2118, 0.2878, 0.1509, 0.1298, 0.379, 0.2824, -0.0881, 0.4226, 2.0626, 2.0536, 2.0437, 2.0367, 2.0177, 2.0088, 1.9976, 1.9921, 1.9901, 1.9885, 1.9878, 1.9821, 1.9788, 1.9623, 1.9555, 1.941, 1.9394, 1.9376, 1.9284, 1.9246, 1.916, 1.916, 1.9135, 1.9023, 1.9011, 1.8848, 1.8845, 1.8842, 1.8687, 1.8667, 1.848, 1.8569, 1.8264, 1.8243, 1.863, 1.8264, 1.7205, 1.8228, 1.7583, 1.4883, 1.6357, 1.5451, 1.4946, 1.4902, 1.5896, 1.0163, 1.502, 1.0907, 1.4824, 1.3887, 1.3326, 1.007, 1.2332, 0.575, 0.798, 0.4157, 1.0046, 0.6911, 0.6973, 0.2799, 0.1239, 0.4691, 1.0167, 0.1722, 0.2566, 2.0633, 2.0531, 2.0414, 2.0356, 2.0321, 2.0319, 2.0157, 2.0023, 1.9982, 1.9858, 1.9856, 1.983, 1.9756, 1.966, 1.9612, 1.9591, 1.9579, 1.9568, 1.9502, 1.9447, 1.9432, 1.9413, 1.9397, 1.9388, 1.9346, 1.9268, 1.9262, 1.9205, 1.9001, 1.8992, 1.8979, 1.897, 1.8848, 1.8749, 1.8279, 1.8711, 1.8364, 1.8132, 1.8393, 1.8411, 1.6709, 1.4691, 1.6274, 1.6457, 1.4057, 1.2515, 1.6427, 1.6938, 1.4195, 1.5376, 1.6027, 0.9624, 1.5828, 1.2556, 1.024, 1.3141, 1.6358, 1.425, 1.6995, 1.1383, 0.6104, 0.7445, 1.0993, 0.6926, 1.1654, 1.0661, 0.8446, -0.0]}, \"token.table\": {\"Topic\": [1, 2, 3, 4, 5, 2, 3, 2, 3, 5, 1, 2, 3, 4, 5, 1, 2, 3, 4, 5, 5, 4, 1, 2, 3, 4, 5, 2, 5, 2, 3, 4, 5, 5, 2, 3, 5, 1, 2, 3, 4, 5, 2, 3, 3, 4, 5, 1, 2, 3, 4, 5, 1, 3, 4, 5, 4, 1, 2, 3, 4, 5, 1, 2, 3, 4, 2, 3, 5, 2, 4, 5, 1, 2, 4, 5, 1, 3, 4, 5, 1, 2, 2, 5, 3, 1, 5, 3, 4, 2, 3, 1, 3, 4, 1, 2, 3, 4, 5, 2, 5, 3, 2, 5, 1, 1, 2, 3, 4, 5, 1, 2, 5, 1, 2, 3, 5, 4, 3, 2, 3, 5, 3, 3, 4, 1, 3, 4, 3, 4, 3, 2, 4, 3, 4, 3, 1, 2, 3, 5, 2, 3, 4, 5, 2, 3, 4, 5, 1, 3, 4, 5, 4, 1, 2, 3, 4, 1, 1, 1, 2, 3, 4, 3, 4, 5, 1, 3, 4, 1, 2, 3, 4, 1, 2, 3, 4, 1, 1, 2, 1, 2, 3, 4, 5, 2, 3, 4, 2, 4, 5, 2, 3, 5, 2, 3, 4, 5, 2, 5, 2, 3, 5, 2, 5, 1, 2, 3, 4, 5, 1, 5, 2, 3, 4, 5, 2, 3, 4, 5, 5, 2, 3, 4, 3, 5, 3, 2, 4, 1, 2, 3, 4, 5, 1, 2, 3, 4, 5, 5, 3, 4, 3, 2, 5, 2, 3, 4, 5, 1, 2, 4, 2, 4, 1, 2, 4, 5, 1, 3, 4, 1, 2, 3, 4, 5, 1, 3, 4, 1, 3, 1, 1, 2, 3, 5, 1, 2, 3, 4, 5, 3, 5, 2, 1, 2, 4, 1, 1, 2, 4, 1, 4, 5, 1, 3, 4, 1, 4, 2, 3, 4, 5, 1, 2, 3, 4, 1, 2, 5, 1, 2, 5, 1, 2, 5, 1, 4, 1, 2, 3, 4, 3, 1, 2, 3, 4, 5, 1, 2, 3, 4, 5, 1, 3, 2, 3, 4, 5, 1, 3, 1, 3, 1, 1, 1, 5, 3, 4, 5, 1, 1, 2, 3, 4, 5, 1, 2, 3, 4, 5, 1, 2, 3, 4, 5, 1, 2, 3, 4, 1, 2, 4, 5, 2, 3, 4, 5, 2, 4, 2, 3, 4, 5, 2, 3, 4, 5, 2, 3, 4, 5, 2, 3, 4, 5, 2, 2, 4, 1, 2, 3, 4, 5, 1, 2, 3, 4, 5, 1, 3, 4, 5, 3, 2, 3, 4, 5, 3, 1, 3, 4, 5, 1, 2, 3, 4, 5, 2, 3, 4, 5, 2, 3, 5, 1, 2, 3, 1, 3, 4, 1, 3, 4, 5, 1, 2, 3, 4, 5, 1, 2, 3, 4, 5, 1, 2, 3, 4, 5, 1, 1, 2, 3, 4, 5, 1, 3, 4, 5, 1, 2, 3, 4, 5, 1, 2, 3, 4, 5, 1, 2, 3, 5, 2, 3, 2, 3, 5, 1, 2, 4, 1, 2, 3, 4, 5, 2, 4, 2, 3, 2, 4, 3, 4, 3, 4, 5, 2, 4, 5, 1, 2, 3, 4, 1, 2, 3, 4, 2, 3, 4, 1, 2, 3, 4, 5, 2, 3, 5, 1, 2, 3, 4, 5, 2, 4, 2, 1, 3, 4, 5, 3, 1, 3, 2, 4, 1, 2, 3, 4, 5, 1, 3, 1, 4, 2, 4, 1, 2, 3, 4, 5, 2, 3, 4, 5, 2, 3, 4, 5, 1, 2, 3, 4, 5, 3, 1, 1, 3, 4, 1, 2, 3, 4, 5, 2, 5, 2, 5, 1, 2, 3, 4, 5, 1, 2, 3, 4, 1, 1, 2, 3, 4, 5, 1, 2, 4, 5, 3, 2, 3, 4, 5, 2, 3, 4, 5, 1, 2, 4, 5, 3, 3, 1, 2, 3, 4, 5, 3, 4, 2, 3, 4, 5, 5, 2, 5, 1, 2, 3, 4, 5, 1, 2, 4, 5, 4, 2, 3, 4, 5, 1, 2, 4, 5, 4, 1, 2, 3, 4, 5, 2, 3, 4, 2, 3, 4, 5, 4, 5, 3, 5, 1, 2, 3, 1, 2, 3, 4, 5, 3, 1, 4, 4, 5, 3, 4, 1, 2, 5, 5, 3, 3, 1, 2, 3, 4, 5, 1, 3, 4, 5, 2, 3, 4, 5, 1, 2, 3, 4, 5, 3, 1, 3, 5, 1, 2, 3, 4, 5, 2, 3, 4, 5, 1, 3, 4, 1, 2, 1, 2, 3, 4, 5, 1, 2, 3, 4, 5, 2, 3, 4, 5, 1, 2, 4, 5, 5, 1, 2, 3, 4, 5, 2, 3, 4, 5, 1, 2, 3, 4, 5, 2, 3, 5, 1, 3, 2, 1, 2, 3, 4, 5, 1, 3, 4, 5, 3, 3, 4, 3, 4, 5, 1, 3, 1, 1, 2, 3, 4, 5, 2, 3, 4, 5, 2, 3, 5, 2, 4, 1, 2, 3, 4, 5, 1, 2, 3, 4, 5, 1, 1, 3, 5, 1, 3, 4, 5, 1, 1, 2, 3, 4, 5, 2, 2, 4, 5, 3, 4, 5, 2, 4, 4, 5, 1, 2, 3, 4, 5, 1, 3, 4, 5, 2, 5, 3, 5, 1, 3, 3, 2, 3, 4, 5, 4, 2, 4, 5, 2, 3, 4, 5, 1, 2, 3, 4, 5, 1, 2, 3, 4, 5, 2, 4, 1, 2, 3, 5, 2, 3, 5, 5, 1, 1, 2, 3, 4, 5, 1, 3, 1, 2, 4, 5, 1, 2, 3, 4, 5, 1, 2, 3, 4, 5, 1, 3, 4, 2, 3, 5, 1, 1, 3, 4, 1, 2, 3, 4, 5, 1, 2, 3, 4, 5, 3, 3, 1, 1, 3, 4, 2, 5, 1, 2, 3, 4, 5], \"Freq\": [0.0035342648409990777, 0.5124684019448662, 0.37109780830490313, 0.021205589045994466, 0.09542515070697509, 0.7845957610445323, 0.20399489787157843, 0.7166073431137224, 0.19263638255745227, 0.09246546362757709, 0.008701855812032741, 0.5830243394061937, 0.21754639530081854, 0.052211134872196446, 0.1479315488045566, 0.017484361995351, 0.17484361995351003, 0.39339814489539754, 0.04371090498837751, 0.367171601902371, 0.929194710063766, 0.979443194687791, 0.01564117979804606, 0.21897651717264485, 0.08602648888925334, 0.17987356767752968, 0.508338343436497, 0.07733018504188237, 0.850632035460706, 0.281563514281084, 0.3120028131222823, 0.334832287253181, 0.0684884223926961, 0.9292953575899552, 0.15413367860908495, 0.23120051791362742, 0.6011213465754313, 0.010035385077029781, 0.3713092478501019, 0.2007077015405956, 0.34120309261901255, 0.07024769553920847, 0.9527734771383513, 0.03528790656067968, 0.9730777290328767, 0.08359070234674046, 0.8359070234674045, 0.03804072771664042, 0.15216291086656167, 0.5668068429779423, 0.16357512918155379, 0.08368960097660892, 0.9700272268753704, 0.3979431088764667, 0.553659977567258, 0.03460374859795363, 0.896730543960811, 0.06005597255439058, 0.6305877118211011, 0.18016791766317172, 0.06005597255439058, 0.06005597255439058, 0.2087201237817649, 0.05218003094544123, 0.13914674918784328, 0.6087670276968143, 0.9329649517552178, 0.08985457536997185, 0.8086911783297466, 0.1352552916550664, 0.0338138229137666, 0.8115317499303983, 0.10859057916849096, 0.6264841105874479, 0.10859057916849096, 0.1587093080154868, 0.6618248394745202, 0.29055724659856985, 0.024213103883214154, 0.0322841385109522, 0.9715235662110063, 0.9555709325556456, 0.8800958080146253, 0.05500598800091408, 0.9870672228767962, 0.9454452881525889, 0.027807214357429083, 0.9530041846640809, 0.030254101100447014, 0.856083453129322, 0.12750179089160116, 0.8403097983337434, 0.10892904793215193, 0.03112258512347198, 0.1329286540873886, 0.03467704019671007, 0.34099089526764903, 0.24851878807642216, 0.24851878807642216, 0.9662989235876276, 0.025428919041779675, 0.961817961413838, 0.0638941125751273, 0.9264646323393458, 0.9735003530276852, 0.1098776430133392, 0.5398336374133622, 0.1289867983200069, 0.14809595362667458, 0.07165933240000383, 0.04333522694388213, 0.04333522694388213, 0.8667045388776425, 0.6006410998060876, 0.09193486221521749, 0.3003205499030438, 0.006128990814347832, 0.9558216473080506, 0.9715751806410006, 0.1214947257914041, 0.27336313303065923, 0.6074736289570205, 0.9791233846928171, 0.1626541919362264, 0.813270959681132, 0.09789597887384877, 0.04894798943692438, 0.8321158204277145, 0.18463072559118376, 0.7754490474829718, 0.9770008441533774, 0.11167288106653561, 0.8561587548434396, 0.9557279880019949, 0.02896145418187863, 0.969953087079797, 0.0642480373157357, 0.08719376492849844, 0.793922175401591, 0.0550697462706306, 0.0940144304041544, 0.0470072152020772, 0.0705108228031158, 0.7756190508342738, 0.10467924917312722, 0.03489308305770907, 0.06978616611541814, 0.7676478272695997, 0.15436913612108988, 0.1234953088968719, 0.07203893018984193, 0.6586416474499834, 0.8853360385895104, 0.9182561730187144, 0.04832927226414287, 0.024164636132071433, 0.8986963379224965, 0.9636119521118184, 0.9666732823702406, 0.050243723778207364, 0.7871516725252488, 0.13398326340855296, 0.03349581585213824, 0.9699754915419411, 0.04186728931580011, 0.9629476542634026, 0.9673429775983489, 0.16532857995940287, 0.8266428997970143, 0.1818185549715299, 0.02479343931429953, 0.09917375725719813, 0.6942163008003869, 0.097717601606995, 0.097717601606995, 0.0488588008034975, 0.78174081285596, 0.9672861933612688, 0.9250739647050289, 0.03426199869277884, 0.585789320693446, 0.05374213951316018, 0.295581767322381, 0.04836792556184417, 0.016122641853948055, 0.054025513996071056, 0.7563571959449947, 0.18908929898624868, 0.06026473706257869, 0.06026473706257869, 0.8437063188761016, 0.026667849927939802, 0.946708672441863, 0.026667849927939802, 0.5485882895866889, 0.2021114751108854, 0.15158360633316403, 0.09383747058719678, 0.932756851290026, 0.07462054810320208, 0.9515599835902209, 0.9889064839202648, 0.9284735647923443, 0.9268108550604941, 0.9493243837830905, 0.07762613232457265, 0.638259310224264, 0.025875377441524215, 0.04312562906920702, 0.2156281453460351, 0.9535309292383162, 0.018696684887025805, 0.15686397205650507, 0.2654621065571624, 0.012066459388961927, 0.5671235912812106, 0.24564225481853635, 0.7274789854241269, 0.009447779031482167, 0.018895558062964335, 0.9720099865486715, 0.1266616190767734, 0.0633308095383867, 0.8233005239990271, 0.9615488186255147, 0.025987805908797693, 0.9662542120396851, 0.11983838598986159, 0.8388687019290311, 0.038096306532273486, 0.05714445979841022, 0.19048153266136741, 0.6285890577825125, 0.07619261306454697, 0.284441881419635, 0.09922391212312849, 0.39689564849251396, 0.09591644838569088, 0.12237615828519181, 0.931865571398924, 0.9496159032346981, 0.04828555440176431, 0.9715701540193226, 0.05436002124235936, 0.9241203611201091, 0.26138559716538984, 0.058811759362212716, 0.24831631730712037, 0.4312862353228933, 0.3345434421872315, 0.18734432762484962, 0.468360819062124, 0.11353208128826484, 0.8514906096619863, 0.01005019384193144, 0.809040604275481, 0.05527606613062292, 0.125627423024143, 0.8735860752508351, 0.104189164938173, 0.01602910229818046, 0.7969226538374554, 0.016836394095157508, 0.14030328412631257, 0.016836394095157508, 0.028060656825262514, 0.8135634681914453, 0.12845738971443874, 0.05709217320641721, 0.9088601157871674, 0.0586361365023979, 0.9862450326969328, 0.03108561420395238, 0.07253309980922222, 0.8703971977106667, 0.02072374280263492, 0.01182571782891864, 0.3429458170386405, 0.08278002480243048, 0.5439830201302573, 0.02365143565783728, 0.9640870350822455, 0.024720180386724244, 0.9676132581134448, 0.06138680909446353, 0.1534670227361588, 0.7673351136807941, 0.9827495596585368, 0.10410989890991248, 0.8707373363374499, 0.018929072529074997, 0.07469762607628529, 0.07469762607628529, 0.8216738868391382, 0.853475675389302, 0.121925096484186, 0.020320849414031, 0.01970352071396222, 0.9654725149841489, 0.32848581192234444, 0.221949872920503, 0.07102395933456096, 0.38175378142326516, 0.06415114259503978, 0.010691857099173295, 0.02138371419834659, 0.8981159963305568, 0.964874284686427, 0.05709029885305462, 0.9134447816488739, 0.9735530159748332, 0.232524484514737, 0.7626803092083374, 0.9457284144805722, 0.9211384381396411, 0.06140922920930941, 0.9807122292794969, 0.9457931726056651, 0.07646695338815276, 0.10923850484021823, 0.8083649358176149, 0.010923850484021823, 0.9682068903592459, 0.020201386329675303, 0.22221524962642833, 0.2676683688681978, 0.3434235676044802, 0.15151039747256478, 0.47971172511751436, 0.08158362672066571, 0.2186441196113841, 0.140323837959545, 0.08158362672066571, 0.6901508838471433, 0.3112445162447901, 0.20504940033257163, 0.36615964345102076, 0.08787831442824498, 0.3405284684094493, 0.9331133050440931, 0.06220755366960621, 0.9646827249142212, 0.031118797577878103, 0.9715195133875305, 0.9785864560032997, 0.967311881150062, 0.9288830198121047, 0.2769443032388645, 0.05934520783689953, 0.672579022151528, 0.9673105146627554, 0.21104699622650946, 0.2936306034455784, 0.2569267780148811, 0.16057923625930068, 0.07799562904023176, 0.3128331251506028, 0.08938089290017222, 0.5213885419176713, 0.04469044645008611, 0.033517834837564583, 0.37587265937241704, 0.06834048352225765, 0.4741121044356624, 0.06834048352225765, 0.017085120880564412, 0.8433965499384947, 0.04362395947957731, 0.01454131982652577, 0.08724791895915462, 0.012508935716405512, 0.2626876500445157, 0.08756255001483858, 0.6254467858202756, 0.05542121150961881, 0.08313181726442821, 0.027710605754809405, 0.8313181726442822, 0.91757615660949, 0.07646467971745749, 0.8769022751296115, 0.061898984126796106, 0.030949492063398053, 0.020632994708932036, 0.12015027662293475, 0.030037569155733686, 0.06007513831146737, 0.7809767980490758, 0.08524671344989551, 0.08524671344989551, 0.02841557114996517, 0.7956359921990247, 0.12532559426600232, 0.025065118853200462, 0.7268884467428134, 0.12532559426600232, 0.912428186552028, 0.9006358792457577, 0.07205087033966062, 0.07479259362041481, 0.7396156480241021, 0.13296461088073744, 0.01662057636009218, 0.03324115272018436, 0.12251457564025969, 0.011668054822881876, 0.834265919836054, 0.023336109645763752, 0.005834027411440938, 0.0159259087250465, 0.27074044832579053, 0.0796295436252325, 0.63703634900186, 0.9641528085474503, 0.007573354711440027, 0.840642372969843, 0.05301348298008019, 0.09845361124872035, 0.9840751550571742, 0.7843593328405664, 0.15466240365870323, 0.01104731454705023, 0.04418925818820092, 0.5901377408928052, 0.010444915768014252, 0.2872351836203919, 0.06266949460808552, 0.04700212095606413, 0.14632255639855923, 0.3365418797166862, 0.49749669175510136, 0.014632255639855922, 0.9268720268939398, 0.9738167686217327, 0.019476335372434653, 0.036189136887559724, 0.05428370533133958, 0.9047284221889931, 0.016337913997711218, 0.9475990118672506, 0.016337913997711218, 0.4962933838068826, 0.44114967449500675, 0.04901663049944519, 0.018381236437291948, 0.6231736846882029, 0.008199653745897406, 0.20499134364743515, 0.10659549869666628, 0.05739757622128184, 0.08435262992491928, 0.4097127739210365, 0.03615112711067969, 0.42176314962459643, 0.04820150281423959, 0.5076450818101632, 0.043335555764282226, 0.26620412826630513, 0.1485790483346819, 0.03714476208367048, 0.9636134092945485, 0.6729679467566951, 0.00841209933445869, 0.20189038402700854, 0.050472596006752135, 0.06729679467566951, 0.804365130476897, 0.17874780677264376, 0.0059582602257547915, 0.011916520451509583, 0.015573759444403208, 0.4672127833320962, 0.1868851133328385, 0.03893439861100802, 0.28811454972145933, 0.6853187579955456, 0.12320337222391833, 0.10780295069592853, 0.04620126458396937, 0.03850105381997448, 0.9216641317145456, 0.02333326915733027, 0.04666653831466054, 0.011666634578665135, 0.9463350098252608, 0.03785340039301043, 0.8933280768254314, 0.05955520512169542, 0.02977760256084771, 0.03160030580141699, 0.9164088682410928, 0.03160030580141699, 0.43107200897219755, 0.021200262736337582, 0.45933902595398096, 0.08126767382262741, 0.0035333771227229306, 0.8573270627683447, 0.1428878437947241, 0.8915990672468889, 0.04953328151371605, 0.9711094662229754, 0.9612811699009852, 0.9475691736022059, 0.04407298481870725, 0.045039013711408386, 0.9007802742281678, 0.045039013711408386, 0.8314944485995288, 0.05939246061425205, 0.09898743435708676, 0.030186579178318004, 0.08049754447551467, 0.8452242169929042, 0.030186579178318004, 0.049921571133541016, 0.07131653019077289, 0.5134790173735647, 0.370845956992019, 0.04126032190406047, 0.12378096571218142, 0.7839461161771489, 0.17054687754266512, 0.15504261594787738, 0.46512784784363215, 0.196387313533978, 0.010336174396525158, 0.5271464234042353, 0.4298270836988381, 0.0324397799017991, 0.007752355833222586, 0.6124361108245843, 0.16279947249767432, 0.031009423332890345, 0.18605653999734206, 0.9206371529561364, 0.07464625564509214, 0.9552194880623693, 0.031245494269590973, 0.9061193338181383, 0.015622747134795487, 0.031245494269590973, 0.9855694515768113, 0.9229998960905678, 0.07178888080704417, 0.13493197518737665, 0.8545691761867188, 0.11454560135227108, 0.12981834819924057, 0.7330918486545349, 0.010181831231312985, 0.012727289039141231, 0.759747269252892, 0.23701517374128683, 0.20119842754167955, 0.7880271745382449, 0.049143575419482145, 0.8845843575506785, 0.023176665839269944, 0.426450651442567, 0.426450651442567, 0.11124799602849574, 0.013905999503561967, 0.14878301423524407, 0.830705162813446, 0.012398584519603672, 0.012398584519603672, 0.019136457946611972, 0.21050103741273168, 0.1339552056262838, 0.6315031122381951, 0.4904856221165323, 0.007847769953864516, 0.42770346248561614, 0.051010504700119357, 0.02354330986159355, 0.9663057504606769, 0.9538625526127225, 0.14491190687719266, 0.8332434645438578, 0.018113988359649082, 0.07700408974214211, 0.3368928926218717, 0.12513164583098094, 0.1058806233954454, 0.3561439150574073, 0.07402736655385156, 0.9130041874975026, 0.1759167541658159, 0.8041908761865869, 0.2409477770467996, 0.1468275516378935, 0.4442474639300367, 0.12423869753975604, 0.04141289917991868, 0.898056485890793, 0.018709510122724853, 0.018709510122724853, 0.037419020245449706, 0.9892182418587576, 0.567956392180365, 0.08414168773042444, 0.16828337546084887, 0.07362397676412138, 0.10517710966303054, 0.023526110547062967, 0.8469399796942668, 0.058815276367657425, 0.058815276367657425, 0.9910664355618174, 0.9124146689882813, 0.9302865219297188, 0.021142875498402703, 0.021142875498402703, 0.05928956814782648, 0.8419118676991361, 0.04743165451826119, 0.04743165451826119, 0.14621412750335694, 0.026584386818792174, 0.5848565100134278, 0.23925948136912956, 0.9641653665390162, 0.9730728856465546, 0.013463961318313794, 0.06731980659156897, 0.6900280175635819, 0.1884954584563931, 0.03702589362536293, 0.08277757348661754, 0.8277757348661755, 0.272658740602119, 0.23857639802685413, 0.34082342575264873, 0.15337054158869193, 0.8136632596027119, 0.8878548264764062, 0.05222675449861213, 0.0471517047402531, 0.7544272758440496, 0.011787926185063274, 0.10609133566556947, 0.08251548329544292, 0.015912370641915658, 0.7956185320957829, 0.06364948256766263, 0.12729896513532526, 0.8652659625199471, 0.5383777062110535, 0.21708778476252158, 0.09117686960025906, 0.1519614493337651, 0.010460296882017427, 0.8891252349714812, 0.010460296882017427, 0.08368237505613942, 0.8994169772377765, 0.008854591673448493, 0.593257642121049, 0.07969132506103643, 0.15938265012207287, 0.15938265012207287, 0.8639057222027753, 0.08860571509772054, 0.04430285754886027, 0.32867644939762325, 0.4133355348485262, 0.14939838608982875, 0.10955881646587441, 0.05179902752991316, 0.8805834680085237, 0.9459929587657169, 0.04614599798857155, 0.11248769967926621, 0.8717796725143131, 0.9819128675755998, 0.05486354552553292, 0.7406578645946944, 0.10972709105106584, 0.05486354552553292, 0.04114765914414969, 0.9902533534287858, 0.06011994579777579, 0.9017991869666369, 0.10877520505709395, 0.8702016404567516, 0.10742220559687031, 0.8593776447749625, 0.05487497704741403, 0.9054371212823314, 0.027437488523707015, 0.979367652946685, 0.986789016756468, 0.9641848068416469, 0.03883918704235076, 0.7088151635229014, 0.05825878056352614, 0.15535674816940304, 0.04854898380293845, 0.15488227336468088, 0.1393940460282128, 0.06195290934587235, 0.6350173207951916, 0.9483276557041733, 0.034694914233079514, 0.05179804583127175, 0.8805667791316197, 0.4963165287193554, 0.018728925612051146, 0.2809338841807672, 0.10300909086628131, 0.09832685946326852, 0.9618152865536391, 0.8218377217140448, 0.16436754434280895, 0.009668679078988763, 0.37320172419620223, 0.01741608046248944, 0.5859267069880375, 0.0037320172419620223, 0.019904091957130787, 0.8659792137868283, 0.050939953752166374, 0.008489992292027728, 0.07640993062824956, 0.923570775472887, 0.026387736442082487, 0.052775472884164974, 0.054832205450476595, 0.9321474926581022, 0.17474099523299488, 0.04077289888769881, 0.4892747866523857, 0.273760892531692, 0.01747409952329949, 0.01117841437648633, 0.10060572938837697, 0.25710353065918556, 0.5477423044478301, 0.08942731501189063, 0.05840977193948174, 0.33377012536846706, 0.1418523032815985, 0.4589339223816422, 0.13497649940935363, 0.26995299881870727, 0.07362354513237471, 0.515364815926623, 0.9027195155427036, 0.009824191652680577, 0.4273523368916052, 0.21613221635897273, 0.0884177248741252, 0.2603410787960353, 0.4176189080704317, 0.11778994843012178, 0.06424906278006642, 0.3962025538104096, 0.016253622398252336, 0.04876086719475701, 0.07314130079213552, 0.04063405599563084, 0.820807931111743, 0.8852935947349816, 0.026827078628332775, 0.1073083145133311, 0.943391503431354, 0.0496521843911239, 0.9728935132112074, 0.34535713520245886, 0.4730919660307656, 0.10881115218707609, 0.052040116263384215, 0.014192758980922968, 0.7838269279627937, 0.1621710885440263, 0.04054277213600657, 0.013514257378668857, 0.983490625387975, 0.9642240689991611, 0.024410735924029398, 0.9661384095953528, 0.023564351453545188, 0.023564351453545188, 0.07688368242452441, 0.9097902420235389, 0.9636114995952517, 0.008238496669676668, 0.3480764842938392, 0.30688400094545587, 0.01441736917193417, 0.32130137011739, 0.12191863489722721, 0.2926047237533453, 0.048767453958890886, 0.533394027675369, 0.05189542921487108, 0.19028324045452727, 0.7611329618181091, 0.049138422795218524, 0.8844916103139334, 0.11160285355390587, 0.013950356694238233, 0.055801426776952934, 0.7672696181831029, 0.055801426776952934, 0.014498135375445444, 0.11598508300356355, 0.10148694762811811, 0.7684011748986085, 0.014498135375445444, 0.9636307676968368, 0.8797293083496192, 0.091638469619752, 0.018327693923950398, 0.7736358830341792, 0.07627396029914442, 0.021792560085469835, 0.14165164055555393, 0.9636158843839897, 0.021028632682852193, 0.7780594092655312, 0.08411453073140877, 0.05607635382093919, 0.06308589804855659, 0.989866842210014, 0.3934965623413293, 0.1041608547374107, 0.5034441312308183, 0.08996149283694396, 0.7796662712535143, 0.1499358213949066, 0.4367302916762643, 0.5415455616785677, 0.9612679553793532, 0.9193054150886844, 0.8081720621791842, 0.014303930304056358, 0.1001275121283945, 0.05006375606419725, 0.028607860608112715, 0.06729378039059682, 0.11215630065099469, 0.15701882091139255, 0.6729378039059681, 0.12991877088346263, 0.82281888226193, 0.11164762317537677, 0.8559651110112219, 0.9583503221324898, 0.034226797219017495, 0.975754511836227, 0.026924671016248545, 0.10769868406499418, 0.8077401304874564, 0.05384934203249709, 0.9803513943478117, 0.047028820252474145, 0.8935475847970087, 0.047028820252474145, 0.11046985259597007, 0.42179398263915846, 0.03682328419865669, 0.4284891252207324, 0.024527681120644053, 0.08175893706881351, 0.34338753568901675, 0.5477848783610505, 0.772595384632073, 0.24857101529640116, 0.3748293087802875, 0.07891143342742894, 0.07102029008468605, 0.2248975852681725, 0.8829547835330691, 0.08026861668482446, 0.8251168239257767, 0.023574766397879334, 0.141448598387276, 0.011787383198939667, 0.0961944317851605, 0.04809721589258025, 0.8657498860664445, 0.942315684125718, 0.9666739327377706, 0.03375437225976538, 0.16202098684687383, 0.7628488130706976, 0.03375437225976538, 0.013501748903906152, 0.9232652116403783, 0.06839001567706506, 0.5776901524888853, 0.30113635608463174, 0.030728199600472628, 0.09218459880141788, 0.5202757033546537, 0.09459558242811884, 0.2364889560702971, 0.10551045732367102, 0.04729779121405942, 0.11521171784618996, 0.052368962657359075, 0.7384023734687629, 0.06284275518883088, 0.03142137759441544, 0.7261851345512741, 0.24690294574743318, 0.021785554036538222, 0.08307089190468452, 0.8860895136499681, 0.027690297301561504, 0.9706054409706463, 0.9009669057319353, 0.07207735245855482, 0.018019338114638704, 0.2840711620848858, 0.22570037535511475, 0.1673295886253437, 0.21791760379114528, 0.1050674161135879, 0.1093365688542644, 0.1796243631177201, 0.5388730893531603, 0.14838534344507312, 0.02342926475448523, 0.9744586381020759, 0.9757574902516136, 0.9511281587155568, 0.01586615794777363, 0.9202371609708705, 0.06346463179109452, 0.9206462217865273, 0.06137641478576849, 0.06735380081113371, 0.2087967825145145, 0.653331867867997, 0.060618420730020335, 0.01347076016222674], \"Term\": [\"000\", \"000\", \"000\", \"000\", \"000\", \"1959\", \"1959\", \"1960\", \"1960\", \"1960\", \"1961\", \"1961\", \"1961\", \"1961\", \"1961\", \"30\", \"30\", \"30\", \"30\", \"30\", \"62\", \"academic\", \"act\", \"act\", \"act\", \"act\", \"act\", \"adjustments\", \"adjustments\", \"administration\", \"administration\", \"administration\", \"administration\", \"adopting\", \"agreement\", \"agreement\", \"agreement\", \"aid\", \"aid\", \"aid\", \"aid\", \"aid\", \"aircraft\", \"aircraft\", \"alexander\", \"allocation\", \"allocation\", \"american\", \"american\", \"american\", \"american\", \"american\", \"anne\", \"anti\", \"anti\", \"anti\", \"appearances\", \"areas\", \"areas\", \"areas\", \"areas\", \"areas\", \"art\", \"art\", \"art\", \"art\", \"assessment\", \"assigned\", \"assigned\", \"authorized\", \"authorized\", \"authorized\", \"available\", \"available\", \"available\", \"available\", \"away\", \"away\", \"away\", \"away\", \"baby\", \"bankers\", \"banks\", \"banks\", \"baseball\", \"bed\", \"bed\", \"berlin\", \"berlin\", \"billion\", \"billion\", \"black\", \"black\", \"black\", \"board\", \"board\", \"board\", \"board\", \"board\", \"boats\", \"boats\", \"bombs\", \"bonds\", \"bonds\", \"bride\", \"business\", \"business\", \"business\", \"business\", \"business\", \"calendar\", \"calendar\", \"calendar\", \"came\", \"came\", \"came\", \"came\", \"campus\", \"captain\", \"cars\", \"cars\", \"cars\", \"castro\", \"catholic\", \"catholic\", \"cattle\", \"cattle\", \"cattle\", \"chamber\", \"chamber\", \"charter\", \"chemical\", \"chemical\", \"china\", \"china\", \"chinese\", \"city\", \"city\", \"city\", \"city\", \"claim\", \"claim\", \"claim\", \"claim\", \"claims\", \"claims\", \"claims\", \"claims\", \"class\", \"class\", \"class\", \"class\", \"classical\", \"clay\", \"clay\", \"clay\", \"clerical\", \"cloth\", \"clothes\", \"co\", \"co\", \"co\", \"co\", \"coach\", \"coal\", \"coal\", \"coat\", \"collective\", \"collective\", \"college\", \"college\", \"college\", \"college\", \"colleges\", \"colleges\", \"colleges\", \"colleges\", \"colored\", \"colors\", \"colors\", \"come\", \"come\", \"come\", \"come\", \"come\", \"committee\", \"committee\", \"committee\", \"commodities\", \"commodities\", \"commodities\", \"communist\", \"communist\", \"communist\", \"company\", \"company\", \"company\", \"company\", \"compared\", \"compared\", \"components\", \"congo\", \"connections\", \"conservation\", \"coordination\", \"cost\", \"cost\", \"cost\", \"cost\", \"cost\", \"couldn\", \"couldn\", \"countries\", \"countries\", \"countries\", \"countries\", \"county\", \"county\", \"county\", \"county\", \"cousin\", \"creative\", \"creative\", \"creative\", \"cuba\", \"cuba\", \"cuban\", \"curriculum\", \"curriculum\", \"daily\", \"daily\", \"daily\", \"daily\", \"daily\", \"day\", \"day\", \"day\", \"day\", \"day\", \"definition\", \"democratic\", \"democratic\", \"democrats\", \"denied\", \"denied\", \"department\", \"department\", \"department\", \"department\", \"design\", \"design\", \"design\", \"designer\", \"designer\", \"development\", \"development\", \"development\", \"development\", \"didn\", \"didn\", \"didn\", \"don\", \"don\", \"don\", \"don\", \"don\", \"door\", \"door\", \"door\", \"drill\", \"drill\", \"dry\", \"east\", \"east\", \"east\", \"east\", \"education\", \"education\", \"education\", \"education\", \"education\", \"eisenhower\", \"eisenhower\", \"electronic\", \"engineer\", \"engineer\", \"engineer\", \"entrance\", \"equipment\", \"equipment\", \"equipment\", \"exercise\", \"exercise\", \"exercise\", \"eyes\", \"eyes\", \"eyes\", \"faculty\", \"faculty\", \"federal\", \"federal\", \"federal\", \"federal\", \"feed\", \"feed\", \"feed\", \"feed\", \"fig\", \"filing\", \"filing\", \"fingers\", \"fiscal\", \"fiscal\", \"flowers\", \"forests\", \"forests\", \"frames\", \"fulfill\", \"game\", \"game\", \"game\", \"game\", \"gen\", \"general\", \"general\", \"general\", \"general\", \"general\", \"good\", \"good\", \"good\", \"good\", \"good\", \"got\", \"got\", \"government\", \"government\", \"government\", \"government\", \"guests\", \"guests\", \"hadn\", \"hadn\", \"hair\", \"ham\", \"handsome\", \"hated\", \"hearing\", \"hearing\", \"hearing\", \"hell\", \"high\", \"high\", \"high\", \"high\", \"high\", \"home\", \"home\", \"home\", \"home\", \"home\", \"house\", \"house\", \"house\", \"house\", \"house\", \"inch\", \"inch\", \"inch\", \"inch\", \"income\", \"income\", \"income\", \"income\", \"india\", \"india\", \"india\", \"india\", \"industrial\", \"industrial\", \"industry\", \"industry\", \"industry\", \"industry\", \"insurance\", \"insurance\", \"insurance\", \"insurance\", \"interference\", \"interference\", \"interference\", \"interference\", \"interior\", \"interior\", \"interior\", \"interior\", \"inventories\", \"investment\", \"investment\", \"island\", \"island\", \"island\", \"island\", \"island\", \"john\", \"john\", \"john\", \"john\", \"john\", \"junior\", \"junior\", \"junior\", \"junior\", \"katanga\", \"kennedy\", \"kennedy\", \"kennedy\", \"kennedy\", \"khrushchev\", \"knew\", \"knew\", \"knew\", \"knew\", \"know\", \"know\", \"know\", \"know\", \"know\", \"labor\", \"labor\", \"labor\", \"labor\", \"laboratory\", \"laos\", \"laos\", \"leaders\", \"leaders\", \"leaders\", \"league\", \"league\", \"league\", \"left\", \"left\", \"left\", \"left\", \"let\", \"let\", \"let\", \"let\", \"let\", \"level\", \"level\", \"level\", \"level\", \"level\", \"life\", \"life\", \"life\", \"life\", \"life\", \"liked\", \"little\", \"little\", \"little\", \"little\", \"little\", \"ll\", \"ll\", \"ll\", \"ll\", \"local\", \"local\", \"local\", \"local\", \"local\", \"look\", \"look\", \"look\", \"look\", \"look\", \"looked\", \"looked\", \"looked\", \"looked\", \"machine\", \"machine\", \"machinery\", \"machinery\", \"machinery\", \"machines\", \"machines\", \"machines\", \"man\", \"man\", \"man\", \"man\", \"man\", \"manufacturers\", \"manufacturers\", \"manufacturing\", \"manufacturing\", \"marketing\", \"mathematics\", \"mayor\", \"mayor\", \"meat\", \"meat\", \"meat\", \"medical\", \"medical\", \"medical\", \"meeting\", \"meeting\", \"meeting\", \"meeting\", \"members\", \"members\", \"members\", \"members\", \"membership\", \"membership\", \"membership\", \"men\", \"men\", \"men\", \"men\", \"men\", \"military\", \"military\", \"military\", \"million\", \"million\", \"million\", \"million\", \"million\", \"missile\", \"missile\", \"missiles\", \"monday\", \"monday\", \"monday\", \"monday\", \"moscow\", \"mother\", \"mother\", \"motors\", \"motors\", \"mr\", \"mr\", \"mr\", \"mr\", \"mr\", \"mrs\", \"mrs\", \"music\", \"music\", \"musical\", \"musical\", \"national\", \"national\", \"national\", \"national\", \"national\", \"nations\", \"nations\", \"nations\", \"nations\", \"officer\", \"officer\", \"officer\", \"officer\", \"old\", \"old\", \"old\", \"old\", \"old\", \"opposition\", \"pale\", \"party\", \"party\", \"party\", \"pay\", \"pay\", \"pay\", \"pay\", \"pay\", \"payment\", \"payment\", \"payments\", \"payments\", \"people\", \"people\", \"people\", \"people\", \"people\", \"pieces\", \"pieces\", \"pieces\", \"pieces\", \"pink\", \"place\", \"place\", \"place\", \"place\", \"place\", \"planning\", \"planning\", \"planning\", \"planning\", \"player\", \"polaris\", \"police\", \"police\", \"police\", \"political\", \"political\", \"political\", \"political\", \"pool\", \"pool\", \"pool\", \"pool\", \"pope\", \"premier\", \"president\", \"president\", \"president\", \"president\", \"president\", \"prestige\", \"prestige\", \"problem\", \"problem\", \"problem\", \"problem\", \"proceedings\", \"procurement\", \"procurement\", \"production\", \"production\", \"production\", \"production\", \"production\", \"products\", \"products\", \"products\", \"products\", \"professors\", \"program\", \"program\", \"program\", \"program\", \"property\", \"property\", \"property\", \"property\", \"prosperity\", \"provide\", \"provide\", \"provide\", \"provide\", \"provide\", \"providence\", \"providence\", \"providence\", \"public\", \"public\", \"public\", \"public\", \"puerto\", \"puerto\", \"race\", \"race\", \"radiation\", \"radiation\", \"railroad\", \"range\", \"range\", \"range\", \"range\", \"range\", \"rayburn\", \"recognition\", \"recognition\", \"recommendation\", \"recommendation\", \"recorded\", \"recorded\", \"recreation\", \"recreation\", \"recreation\", \"rehabilitation\", \"republican\", \"republicans\", \"research\", \"research\", \"research\", \"research\", \"research\", \"return\", \"return\", \"return\", \"return\", \"rhode\", \"rhode\", \"rico\", \"rico\", \"right\", \"right\", \"right\", \"right\", \"right\", \"robinson\", \"room\", \"room\", \"room\", \"said\", \"said\", \"said\", \"said\", \"said\", \"sales\", \"sales\", \"sales\", \"sales\", \"sat\", \"sat\", \"sat\", \"savings\", \"savings\", \"school\", \"school\", \"school\", \"school\", \"school\", \"schools\", \"schools\", \"schools\", \"schools\", \"schools\", \"secretary\", \"secretary\", \"secretary\", \"secretary\", \"section\", \"section\", \"section\", \"section\", \"sectors\", \"service\", \"service\", \"service\", \"service\", \"service\", \"services\", \"services\", \"services\", \"services\", \"shall\", \"shall\", \"shall\", \"shall\", \"shall\", \"shares\", \"shares\", \"shares\", \"shelter\", \"shelter\", \"shipments\", \"small\", \"small\", \"small\", \"small\", \"small\", \"son\", \"son\", \"son\", \"son\", \"southern\", \"soviet\", \"soviet\", \"speaker\", \"speaker\", \"speaker\", \"st\", \"st\", \"stared\", \"state\", \"state\", \"state\", \"state\", \"state\", \"states\", \"states\", \"states\", \"states\", \"stations\", \"stations\", \"stations\", \"stockholders\", \"stockholders\", \"student\", \"student\", \"student\", \"student\", \"student\", \"students\", \"students\", \"students\", \"students\", \"students\", \"studio\", \"sun\", \"sun\", \"sun\", \"sure\", \"sure\", \"sure\", \"sure\", \"sweet\", \"system\", \"system\", \"system\", \"system\", \"system\", \"systems\", \"tax\", \"tax\", \"tax\", \"teachers\", \"teachers\", \"teachers\", \"technical\", \"technical\", \"tends\", \"thereof\", \"thought\", \"thought\", \"thought\", \"thought\", \"thought\", \"title\", \"title\", \"title\", \"title\", \"tractor\", \"tractor\", \"treasury\", \"treasury\", \"trees\", \"trees\", \"troops\", \"trust\", \"trust\", \"trust\", \"trust\", \"trustees\", \"unions\", \"unions\", \"unions\", \"united\", \"united\", \"united\", \"united\", \"university\", \"university\", \"university\", \"university\", \"upstairs\", \"use\", \"use\", \"use\", \"use\", \"use\", \"utility\", \"utility\", \"ve\", \"ve\", \"ve\", \"ve\", \"vehicles\", \"vehicles\", \"vehicles\", \"vocational\", \"walls\", \"war\", \"war\", \"war\", \"war\", \"war\", \"wasn\", \"wasn\", \"water\", \"water\", \"water\", \"water\", \"way\", \"way\", \"way\", \"way\", \"way\", \"week\", \"week\", \"week\", \"week\", \"week\", \"went\", \"went\", \"went\", \"west\", \"west\", \"west\", \"windows\", \"woman\", \"woman\", \"woman\", \"work\", \"work\", \"work\", \"work\", \"work\", \"world\", \"world\", \"world\", \"world\", \"world\", \"yankees\", \"yards\", \"yellow\", \"yesterday\", \"yesterday\", \"yesterday\", \"yield\", \"yield\", \"york\", \"york\", \"york\", \"york\", \"york\"]}, \"R\": 30, \"lambda.step\": 0.01, \"plot.opts\": {\"xlab\": \"PC1\", \"ylab\": \"PC2\"}, \"topic.order\": [1, 2, 3, 4, 5]};\n",
       "\n",
       "function LDAvis_load_lib(url, callback){\n",
       "  var s = document.createElement('script');\n",
       "  s.src = url;\n",
       "  s.async = true;\n",
       "  s.onreadystatechange = s.onload = callback;\n",
       "  s.onerror = function(){console.warn(\"failed to load library \" + url);};\n",
       "  document.getElementsByTagName(\"head\")[0].appendChild(s);\n",
       "}\n",
       "\n",
       "if(typeof(LDAvis) !== \"undefined\"){\n",
       "   // already loaded: just create the visualization\n",
       "   !function(LDAvis){\n",
       "       new LDAvis(\"#\" + \"ldavis_el29581402397326824167157729905\", ldavis_el29581402397326824167157729905_data);\n",
       "   }(LDAvis);\n",
       "}else if(typeof define === \"function\" && define.amd){\n",
       "   // require.js is available: use it to load d3/LDAvis\n",
       "   require.config({paths: {d3: \"https://d3js.org/d3.v5\"}});\n",
       "   require([\"d3\"], function(d3){\n",
       "      window.d3 = d3;\n",
       "      LDAvis_load_lib(\"https://cdn.jsdelivr.net/gh/bmabey/pyLDAvis@3.4.0/pyLDAvis/js/ldavis.v3.0.0.js\", function(){\n",
       "        new LDAvis(\"#\" + \"ldavis_el29581402397326824167157729905\", ldavis_el29581402397326824167157729905_data);\n",
       "      });\n",
       "    });\n",
       "}else{\n",
       "    // require.js not available: dynamically load d3 & LDAvis\n",
       "    LDAvis_load_lib(\"https://d3js.org/d3.v5.js\", function(){\n",
       "         LDAvis_load_lib(\"https://cdn.jsdelivr.net/gh/bmabey/pyLDAvis@3.4.0/pyLDAvis/js/ldavis.v3.0.0.js\", function(){\n",
       "                 new LDAvis(\"#\" + \"ldavis_el29581402397326824167157729905\", ldavis_el29581402397326824167157729905_data);\n",
       "            })\n",
       "         });\n",
       "}\n",
       "</script>"
      ],
      "text/plain": [
       "<IPython.core.display.HTML object>"
      ]
     },
     "execution_count": 19,
     "metadata": {},
     "output_type": "execute_result"
    }
   ],
   "source": [
    "pyLDAvis.display(lda_display)"
   ]
  },
  {
   "attachments": {},
   "cell_type": "markdown",
   "id": "a3d14c87",
   "metadata": {},
   "source": [
    "Q: What conclusions do you draw from the visualization above? Please address the principal component scatterplot and the salient terms graph.\n",
    "\n",
    "A: Topic 3 seems to dominate portion of the data and is centered around concepts like said, mr, president and city. Topic 4 and 5 have related concepts. Based on this map we could see the most common themes discussed in the dataset. \n"
   ]
  }
 ],
 "metadata": {
  "kernelspec": {
   "display_name": "Python 3 (ipykernel)",
   "language": "python",
   "name": "python3"
  },
  "language_info": {
   "codemirror_mode": {
    "name": "ipython",
    "version": 3
   },
   "file_extension": ".py",
   "mimetype": "text/x-python",
   "name": "python",
   "nbconvert_exporter": "python",
   "pygments_lexer": "ipython3",
   "version": "3.9.12"
  }
 },
 "nbformat": 4,
 "nbformat_minor": 5
}
